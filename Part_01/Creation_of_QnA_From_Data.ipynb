{
 "cells": [
  {
   "cell_type": "markdown",
   "id": "cd741664-884b-4240-a6b2-5066e5e66813",
   "metadata": {},
   "source": [
    "# Importing libraries"
   ]
  },
  {
   "cell_type": "code",
   "execution_count": 2,
   "id": "7649512d-d8c6-4ffb-a9c8-3628453e6ba7",
   "metadata": {},
   "outputs": [],
   "source": [
    "import io\n",
    "import requests\n",
    "import docx\n",
    "import json"
   ]
  },
  {
   "cell_type": "markdown",
   "id": "7df9e58d-f306-45b2-8924-78622ba636bd",
   "metadata": {},
   "source": [
    "# FAQ Data Inside the files - (Namings <span style=\"color:red\">Q</span> and <span style=\"color:red\">Ans</span> is just for showcasing here, otherwise Question is in bold in the files)"
   ]
  },
  {
   "cell_type": "markdown",
   "id": "3a5b5325-4bb6-4758-9298-93c392e5a8f6",
   "metadata": {},
   "source": [
    "Q- Java - RuntimeError: Java gateway process exited before sending its port number\n",
    "\n",
    "Ans- Shows java_home is not set on the notebook log\n",
    "https://sparkbyexamples.com/pyspark/pyspark-exception-java-gateway-process-exited-before-sending-the-driver-its-port-number/\n",
    "https://twitter.com/drkrishnaanand/status/1765423415878463839\n",
    "\n",
    "Q- Spark BigQuery connector Automatic configuration\n",
    "\n",
    "Ans- While creating a SparkSession using the config spark.jars.packages as com.google.cloud.spark:spark-bigquery-with-dependencies_2.12:0.23.2\n",
    "spark = SparkSession.builder.master('local').appName('bq').config(\"spark.jars.packages\", \"com.google.cloud.spark:spark-bigquery-with-dependencies_2.12:0.23.2\").getOrCreate() \n",
    "\n",
    "automatically downloads the required dependency jars and configures the connector, removing the need to manage this dependency. More details available here\n",
    "\n",
    ".\n",
    ".\n",
    ".\n",
    "."
   ]
  },
  {
   "cell_type": "markdown",
   "id": "e0231cb0-4347-4ae8-bbbc-c0fe0425019b",
   "metadata": {},
   "source": [
    "# Data Files"
   ]
  },
  {
   "cell_type": "code",
   "execution_count": 3,
   "id": "5988d436-9730-4e8f-b747-c28bbfdc3162",
   "metadata": {},
   "outputs": [],
   "source": [
    "# There are three different files corresponding to three different courses, and we have file ids here as these files are stored on google drive\n",
    "faq_documents = {\n",
    "    'data-engineering-zoomcamp': '19bnYs80DwuUimHM65UV3sylsCn2j1vziPOwzBwQrebw',\n",
    "    'machine-learning-zoomcamp': '1LpPanc33QJJ6BSsyxVg-pWNMplal84TdZtq10naIhD8',\n",
    "    'mlops-zoomcamp': '12TlBfhIiKtyBv8RnsoJR6F72bkPDGEvPOItJIxaEzE0',\n",
    "}"
   ]
  },
  {
   "cell_type": "markdown",
   "id": "1ddc8292-2abb-4c70-8e54-6efdb5afcc4d",
   "metadata": {},
   "source": [
    "# Structure of data inside the data files"
   ]
  },
  {
   "cell_type": "markdown",
   "id": "bbcc868b-2595-4f82-aa63-f58692ae586b",
   "metadata": {},
   "source": [
    "### <span style=\"color:red\">SECTION ---> QUESTION ---> ANSWER </span>"
   ]
  },
  {
   "cell_type": "markdown",
   "id": "e7922300-4fa0-44b6-86bd-6d6940feedf6",
   "metadata": {},
   "source": [
    "# Structure of O/p we want"
   ]
  },
  {
   "cell_type": "markdown",
   "id": "c969d406-6aa4-4f2f-afc2-312732b47ee5",
   "metadata": {},
   "source": [
    "<span style=\"color:orange\">\n",
    "<b>{\n",
    "    <b  style=\"color:red\">\"COURSE\"</b>: \"COURSE HEADING OR THE COURSE NAME FROM WHICH Q/A ARE TO BE MADE\", <br><br>\n",
    "     <b  style=\"color:red\">\"DOCUMENTS\"</b>: <span style=\"color:green\">[</span>  <br>\n",
    "      &nbsp;&nbsp;&nbsp;&nbsp;&nbsp;&nbsp;&nbsp;&nbsp;&nbsp;&nbsp;&nbsp;&nbsp;&nbsp;&nbsp;&nbsp;&nbsp;&nbsp;&nbsp;&nbsp;&nbsp;&nbsp;&nbsp;&nbsp;&nbsp;&nbsp;&nbsp;&nbsp;&nbsp;&nbsp;&nbsp;&nbsp;&nbsp;&nbsp;&nbsp;&nbsp;<span style=\"color:blue\"> <! Document-2>\n",
    "          {</span> <br>\n",
    "        &nbsp;&nbsp;&nbsp;&nbsp;&nbsp;&nbsp;&nbsp;&nbsp;&nbsp;&nbsp;&nbsp;&nbsp;&nbsp;&nbsp;&nbsp;&nbsp;&nbsp;&nbsp;&nbsp;&nbsp;&nbsp;&nbsp;&nbsp;&nbsp;&nbsp;&nbsp;&nbsp;&nbsp;&nbsp;&nbsp;&nbsp;&nbsp;&nbsp;&nbsp;&nbsp;&nbsp;&nbsp;&nbsp;&nbsp;&nbsp;&nbsp;&nbsp;&nbsp;&nbsp;&nbsp;\"TEXT1\": \"ANSWER TO THE QUESTION\",<br><br>\n",
    "        &nbsp;&nbsp;&nbsp;&nbsp;&nbsp;&nbsp;&nbsp;&nbsp;&nbsp;&nbsp;&nbsp;&nbsp;&nbsp;&nbsp;&nbsp;&nbsp;&nbsp;&nbsp;&nbsp;&nbsp;&nbsp;&nbsp;&nbsp;&nbsp;&nbsp;&nbsp;&nbsp;&nbsp;&nbsp;&nbsp;&nbsp;&nbsp;&nbsp;&nbsp;&nbsp;&nbsp;&nbsp;&nbsp;&nbsp;&nbsp;&nbsp;&nbsp;&nbsp;&nbsp;&nbsp;\"SECTION1\": \"SECTION NAME\",<br><br>\n",
    "        &nbsp;&nbsp;&nbsp;&nbsp;&nbsp;&nbsp;&nbsp;&nbsp;&nbsp;&nbsp;&nbsp;&nbsp;&nbsp;&nbsp;&nbsp;&nbsp;&nbsp;&nbsp;&nbsp;&nbsp;&nbsp;&nbsp;&nbsp;&nbsp;&nbsp;&nbsp;&nbsp;&nbsp;&nbsp;&nbsp;&nbsp;&nbsp;&nbsp;&nbsp;&nbsp;&nbsp;&nbsp;&nbsp;&nbsp;&nbsp;&nbsp;&nbsp;&nbsp;&nbsp;&nbsp;\"QUESTION1\": \"QUESTION TO BE ASKED\"<br>\n",
    "    &nbsp;&nbsp;&nbsp;&nbsp;&nbsp;&nbsp;&nbsp;&nbsp;&nbsp;&nbsp;&nbsp;&nbsp;&nbsp;&nbsp;&nbsp;&nbsp;&nbsp;&nbsp;&nbsp;&nbsp;&nbsp;&nbsp;&nbsp;&nbsp;&nbsp;&nbsp;&nbsp;&nbsp;&nbsp;&nbsp;&nbsp;&nbsp;&nbsp;&nbsp;&nbsp; <span style=\"color:blue\">}, </span>\n",
    "    <br>\n",
    "    <br>\n",
    "    <br>\n",
    "    <! Document-2>\n",
    "&nbsp;&nbsp;&nbsp;&nbsp;&nbsp;&nbsp;&nbsp;&nbsp;&nbsp;&nbsp;&nbsp;&nbsp;&nbsp;&nbsp;&nbsp;&nbsp;&nbsp;&nbsp;&nbsp;&nbsp;&nbsp;&nbsp;&nbsp;&nbsp;&nbsp;&nbsp;&nbsp;&nbsp;&nbsp;&nbsp;&nbsp;&nbsp;&nbsp;&nbsp;&nbsp;<span style=\"color:blue\"> {</span> <br>\n",
    "        &nbsp;&nbsp;&nbsp;&nbsp;&nbsp;&nbsp;&nbsp;&nbsp;&nbsp;&nbsp;&nbsp;&nbsp;&nbsp;&nbsp;&nbsp;&nbsp;&nbsp;&nbsp;&nbsp;&nbsp;&nbsp;&nbsp;&nbsp;&nbsp;&nbsp;&nbsp;&nbsp;&nbsp;&nbsp;&nbsp;&nbsp;&nbsp;&nbsp;&nbsp;&nbsp;&nbsp;&nbsp;&nbsp;&nbsp;&nbsp;&nbsp;&nbsp;&nbsp;&nbsp;&nbsp;\"TEXT2\": \"ANSWER TO THE QUESTION\",<br><br>\n",
    "        &nbsp;&nbsp;&nbsp;&nbsp;&nbsp;&nbsp;&nbsp;&nbsp;&nbsp;&nbsp;&nbsp;&nbsp;&nbsp;&nbsp;&nbsp;&nbsp;&nbsp;&nbsp;&nbsp;&nbsp;&nbsp;&nbsp;&nbsp;&nbsp;&nbsp;&nbsp;&nbsp;&nbsp;&nbsp;&nbsp;&nbsp;&nbsp;&nbsp;&nbsp;&nbsp;&nbsp;&nbsp;&nbsp;&nbsp;&nbsp;&nbsp;&nbsp;&nbsp;&nbsp;&nbsp;\"SECTION2\": \"SECTION NAME\",<br><br>\n",
    "        &nbsp;&nbsp;&nbsp;&nbsp;&nbsp;&nbsp;&nbsp;&nbsp;&nbsp;&nbsp;&nbsp;&nbsp;&nbsp;&nbsp;&nbsp;&nbsp;&nbsp;&nbsp;&nbsp;&nbsp;&nbsp;&nbsp;&nbsp;&nbsp;&nbsp;&nbsp;&nbsp;&nbsp;&nbsp;&nbsp;&nbsp;&nbsp;&nbsp;&nbsp;&nbsp;&nbsp;&nbsp;&nbsp;&nbsp;&nbsp;&nbsp;&nbsp;&nbsp;&nbsp;&nbsp;\"QUESTION2\": \"QUESTION TO BE ASKED\"<br>\n",
    "    &nbsp;&nbsp;&nbsp;&nbsp;&nbsp;&nbsp;&nbsp;&nbsp;&nbsp;&nbsp;&nbsp;&nbsp;&nbsp;&nbsp;&nbsp;&nbsp;&nbsp;&nbsp;&nbsp;&nbsp;&nbsp;&nbsp;&nbsp;&nbsp;&nbsp;&nbsp;&nbsp;&nbsp;&nbsp;&nbsp;&nbsp;&nbsp;&nbsp;&nbsp;&nbsp; <span style=\"color:blue\">}, </span>  <br>\n",
    "    &nbsp;&nbsp;&nbsp;&nbsp;&nbsp;&nbsp;&nbsp;&nbsp;&nbsp;&nbsp;&nbsp;&nbsp;&nbsp;&nbsp;&nbsp;&nbsp;&nbsp;&nbsp;&nbsp;&nbsp;&nbsp;&nbsp;&nbsp;&nbsp;&nbsp;&nbsp;&nbsp;&nbsp;&nbsp; <span style=\"color:green\">]</span> <br>\n",
    "    }\n",
    "</span>"
   ]
  },
  {
   "cell_type": "markdown",
   "id": "31f64303-953b-4911-b953-d55accd5e498",
   "metadata": {},
   "source": [
    "# Reading the data files and forming into the above structure output"
   ]
  },
  {
   "cell_type": "code",
   "execution_count": 4,
   "id": "710f4b1e-f139-4e75-8c6c-f6f971156455",
   "metadata": {},
   "outputs": [],
   "source": [
    "# Function to read the data from whole data file and create a json of Q/A\n",
    "def read_faq(file_id):\n",
    "    url = f'https://docs.google.com/document/d/{file_id}/export?format=docx'\n",
    "    response = requests.get(url)\n",
    "    \n",
    "    # Since the response will be in Bytes we need to make a relevant conversion\n",
    "    # Also, we are using the docx package since we have files in the format of .docx, and docx package is used for reading .docx files\n",
    "    with io.BytesIO(response.content) as f_in:\n",
    "        doc = docx.Document(f_in)\n",
    "\n",
    "    # To store different sets of documents each having- TEXT, SECTION, QUESTION in a form of dictionary as can be seen from above\n",
    "    document_set = []\n",
    "\n",
    "    # The font styles of the section heading and question in the document\n",
    "    # In the document, Section is having bigger font than Question\n",
    "    section_heading_style = 'heading 1'\n",
    "    question_heading_style = 'heading 2'\n",
    "\n",
    "    # Variable to store section, question, answer \n",
    "    section_title = ''\n",
    "    question_title = ''\n",
    "    answer_text_so_far = ''\n",
    "\n",
    "    # Looping through each line in the doc\n",
    "    for p in doc.paragraphs:\n",
    "        # Knowing the font style of each line of the doc- Normal, Heading1, Heading2 as can be seen in Microsoft word\n",
    "        style = p.style.name.lower()\n",
    "        # Getting the text of the line\n",
    "        p_text = p.text\n",
    "        p_text = p_text.strip() # Removing spaces from either sides of the line\n",
    "        p_text = p_text.strip('\\uFEFF') # This unicode returns the error so it is good to remove it and it occurs at the beginning of the file \n",
    "\n",
    "        # When it's a blank line\n",
    "        if len(p_text) == 0:\n",
    "            continue\n",
    "\n",
    "        # When it's a Section line\n",
    "        if style == section_heading_style:\n",
    "            section_title = p_text\n",
    "            continue\n",
    "\n",
    "        # When it's a Question line- So thiss is checking the new question, and if it's a new question then whatever values for \n",
    "        # the previous question answer were there we are appending in the questions variable\n",
    "        if style == question_heading_style:\n",
    "            answer_text_so_far = answer_text_so_far.strip()\n",
    "            # Checking if it's not the starting of the parsing when all the section_title,\n",
    "            # question_title and answer to any of the question has not been captured\n",
    "            if answer_text_so_far != '' and section_title != '' and question_title != '':\n",
    "                # Storing previous Q/A values\n",
    "                document_set.append({\n",
    "                    'text': answer_text_so_far,\n",
    "                    'section': section_title,\n",
    "                    'question': question_title,\n",
    "                })\n",
    "                answer_text_so_far = ''\n",
    "    \n",
    "            question_title = p_text\n",
    "            continue\n",
    "\n",
    "        # When the text is not of the Section or Question fonts then it is appended to the 'Answer' variable which is \"answer_text_so_far\"\n",
    "        answer_text_so_far += '\\n' + p_text\n",
    "    \n",
    "    # When it's the last line of the document where we won't be having any new question to make the storage for the last Q/A\n",
    "    answer_text_so_far = answer_text_so_far.strip()\n",
    "    if answer_text_so_far != '' and section_title != '' and question_title != '':\n",
    "        document_set.append({\n",
    "            'text': answer_text_so_far,\n",
    "            'section': section_title,\n",
    "            'question': question_title,\n",
    "        })\n",
    "\n",
    "    return document_set\n",
    "    "
   ]
  },
  {
   "cell_type": "code",
   "execution_count": 5,
   "id": "fc33b754-11f4-421f-9b3a-c4cf9fd13113",
   "metadata": {},
   "outputs": [
    {
     "name": "stdout",
     "output_type": "stream",
     "text": [
      "data-engineering-zoomcamp\n",
      "machine-learning-zoomcamp\n",
      "mlops-zoomcamp\n"
     ]
    }
   ],
   "source": [
    "documents = []\n",
    "\n",
    "for course, file_id in faq_documents.items():\n",
    "    print(course)\n",
    "    course_documents = read_faq(file_id)\n",
    "    documents.append({'course': course, 'documents': course_documents})"
   ]
  },
  {
   "cell_type": "code",
   "execution_count": 12,
   "id": "0b977e4d-bb38-4342-a5d8-a202a287b923",
   "metadata": {
    "scrolled": true
   },
   "outputs": [
    {
     "data": {
      "text/plain": [
       "dict_keys(['course', 'documents'])"
      ]
     },
     "execution_count": 12,
     "metadata": {},
     "output_type": "execute_result"
    }
   ],
   "source": [
    "documents[0].keys()"
   ]
  },
  {
   "cell_type": "markdown",
   "id": "2928b1dd-d6d5-432a-ad1f-6bec8bdd9eea",
   "metadata": {},
   "source": [
    "# Storing the Output in a JSON file"
   ]
  },
  {
   "cell_type": "code",
   "execution_count": 7,
   "id": "fc781937-b4ff-4abc-93b5-4b91706adfc8",
   "metadata": {},
   "outputs": [],
   "source": [
    "# Creating a json file to store the data from all the data files\n",
    "with open('data/documents.json', 'wt') as f_out:\n",
    "    json.dump(documents, f_out, indent=2)"
   ]
  },
  {
   "cell_type": "code",
   "execution_count": 8,
   "id": "4aee5b3e-b675-4eae-a5e2-2ad2213579f8",
   "metadata": {},
   "outputs": [
    {
     "name": "stdout",
     "output_type": "stream",
     "text": [
      "[\n",
      "  {\n",
      "    \"course\": \"data-engineering-zoomcamp\",\n",
      "    \"documents\": [\n",
      "      {\n",
      "        \"text\": \"The purpose of this document is to capture frequently asked\\ntechnical question\\nThe next cohort starts in Jan 2025. More inFo at DTC Article.\\nRegister before the course starts using this link.\\nJoin the course Telegram channel with announcements.\\nDon\\u2019t forget to register in DataTalks.Club's Slack and join the channel.\",\n",
      "        \"section\": \"General course-related questions\",\n",
      "        \"question\": \"Course - When will the course start?\"\n",
      "      },\n",
      "      {\n"
     ]
    }
   ],
   "source": [
    "# Printing one of the JSON element\n",
    "!head data/documents.json"
   ]
  },
  {
   "cell_type": "code",
   "execution_count": null,
   "id": "6223a518-eebd-4f59-a033-dfc195ea8d34",
   "metadata": {},
   "outputs": [],
   "source": []
  },
  {
   "cell_type": "code",
   "execution_count": null,
   "id": "9108fd00-92cc-4184-8f92-324cb5bba5d9",
   "metadata": {},
   "outputs": [],
   "source": []
  },
  {
   "cell_type": "code",
   "execution_count": null,
   "id": "d0d0a110-03fe-4227-b2f1-03c99327c688",
   "metadata": {},
   "outputs": [],
   "source": []
  },
  {
   "cell_type": "code",
   "execution_count": null,
   "id": "a0956f86-c463-4114-8ba6-3c599dc95b9a",
   "metadata": {},
   "outputs": [],
   "source": []
  }
 ],
 "metadata": {
  "kernelspec": {
   "display_name": "Python 3 (ipykernel)",
   "language": "python",
   "name": "python3"
  },
  "language_info": {
   "codemirror_mode": {
    "name": "ipython",
    "version": 3
   },
   "file_extension": ".py",
   "mimetype": "text/x-python",
   "name": "python",
   "nbconvert_exporter": "python",
   "pygments_lexer": "ipython3",
   "version": "3.10.13"
  }
 },
 "nbformat": 4,
 "nbformat_minor": 5
}
