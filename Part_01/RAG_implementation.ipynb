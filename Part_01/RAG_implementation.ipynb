{
 "cells": [
  {
   "cell_type": "code",
   "execution_count": 1,
   "id": "4744ae2d-793e-4621-9fda-167b93e7f251",
   "metadata": {},
   "outputs": [],
   "source": [
    "# pip install mistralai"
   ]
  },
  {
   "cell_type": "code",
   "execution_count": 2,
   "id": "a25eab9f-d94a-48b3-941f-e3ccfb978f75",
   "metadata": {},
   "outputs": [],
   "source": [
    "import openai \n",
    "from openai import OpenAI\n",
    "from mistralai import Mistral\n",
    "import os\n",
    "from similarDocSearch import *\n",
    "import json\n",
    "from credentials import *"
   ]
  },
  {
   "cell_type": "markdown",
   "id": "33ff1f2a-6bbe-4e8e-bb02-603f3e8da47a",
   "metadata": {},
   "source": [
    "# Getting all the required credentials"
   ]
  },
  {
   "cell_type": "code",
   "execution_count": 3,
   "id": "eff8b3c8-7fbc-4601-bc61-2f28fa2fafda",
   "metadata": {},
   "outputs": [],
   "source": [
    "cred = Credentials()\n",
    "all_cred = cred.get_credential()"
   ]
  },
  {
   "cell_type": "markdown",
   "id": "c586d686-6d1a-409f-8ba7-a46b7950eece",
   "metadata": {},
   "source": [
    "# Reading the data file"
   ]
  },
  {
   "cell_type": "code",
   "execution_count": 4,
   "id": "38fbb751-1f6e-488d-82fe-d296c193f8f2",
   "metadata": {},
   "outputs": [
    {
     "data": {
      "text/plain": [
       "3"
      ]
     },
     "execution_count": 4,
     "metadata": {},
     "output_type": "execute_result"
    }
   ],
   "source": [
    "with open(\"data/documents.json\", 'rt') as f_in:\n",
    "    docs_raw = json.load(f_in)\n",
    "\n",
    "len(docs_raw) # # as it's of 3 courses"
   ]
  },
  {
   "cell_type": "code",
   "execution_count": 5,
   "id": "126b5f18-aae5-43b8-9559-74f96c8a5ab8",
   "metadata": {},
   "outputs": [],
   "source": [
    "documents = []\n",
    "\n",
    "for course_dict in docs_raw:\n",
    "    for doc in course_dict['documents']:\n",
    "        doc['course'] = course_dict['course'] \n",
    "        documents.append(doc)"
   ]
  },
  {
   "cell_type": "code",
   "execution_count": 6,
   "id": "c5229a6a-be69-4a6c-8a22-146368cf3102",
   "metadata": {},
   "outputs": [
    {
     "data": {
      "text/plain": [
       "[{'text': \"The purpose of this document is to capture frequently asked\\ntechnical question\\nThe next cohort starts in Jan 2025. More inFo at DTC Article.\\nRegister before the course starts using this link.\\nJoin the course Telegram channel with announcements.\\nDon’t forget to register in DataTalks.Club's Slack and join the channel.\",\n",
       "  'section': 'General course-related questions',\n",
       "  'question': 'Course - When will the course start?',\n",
       "  'course': 'data-engineering-zoomcamp'},\n",
       " {'text': 'GitHub - See DE-zoomcamp  prerequisites',\n",
       "  'section': 'General course-related questions',\n",
       "  'question': 'Course - What are the prerequisites for this course?',\n",
       "  'course': 'data-engineering-zoomcamp'}]"
      ]
     },
     "execution_count": 6,
     "metadata": {},
     "output_type": "execute_result"
    }
   ],
   "source": [
    "documents[:2]"
   ]
  },
  {
   "cell_type": "markdown",
   "id": "491ffd06-9ee9-4456-9935-35f844e3ca37",
   "metadata": {},
   "source": [
    "# Retrieving the top n documents matching or most similar to the user's passed query"
   ]
  },
  {
   "cell_type": "code",
   "execution_count": 7,
   "id": "ebcbcbde-1526-4916-bac2-42a1dc7606a7",
   "metadata": {},
   "outputs": [
    {
     "data": {
      "text/plain": [
       "<similarDocSearch.similarDocSearch at 0x7280d71056c0>"
      ]
     },
     "execution_count": 7,
     "metadata": {},
     "output_type": "execute_result"
    }
   ],
   "source": [
    "# Initializing the class similarDocSearch\n",
    "obj = similarDocSearch(text_fields = [\"question\", \"text\", \"section\"])\n",
    "obj"
   ]
  },
  {
   "cell_type": "code",
   "execution_count": 8,
   "id": "d19a227a-c034-4457-a943-51ff7e66325a",
   "metadata": {},
   "outputs": [
    {
     "data": {
      "text/plain": [
       "<similarDocSearch.similarDocSearch at 0x7280d71056c0>"
      ]
     },
     "execution_count": 8,
     "metadata": {},
     "output_type": "execute_result"
    }
   ],
   "source": [
    "# Fitting\n",
    "obj.fit(documents)"
   ]
  },
  {
   "cell_type": "code",
   "execution_count": 9,
   "id": "98024b58-795d-441d-8b7b-c26a6a9bdd89",
   "metadata": {},
   "outputs": [
    {
     "data": {
      "text/plain": [
       "[{'text': 'Star the repo! Share it with friends if you find it useful ❣️\\nCreate a PR if you see you can improve the text or the structure of the repository.',\n",
       "  'section': 'General course-related questions',\n",
       "  'question': 'How can we contribute to the course?',\n",
       "  'course': 'data-engineering-zoomcamp'},\n",
       " {'text': 'GitHub - See DE-zoomcamp  prerequisites',\n",
       "  'section': 'General course-related questions',\n",
       "  'question': 'Course - What are the prerequisites for this course?',\n",
       "  'course': 'data-engineering-zoomcamp'},\n",
       " {'text': 'You can start by installing and setting up all the dependencies and requirements:\\nGoogle cloud account\\nGoogle Cloud SDK\\nPython 3 (installed with Anaconda)\\nGit\\nLook over the prerequisites and syllabus to see if you are comfortable with these subjects.',\n",
       "  'section': 'General course-related questions',\n",
       "  'question': 'Course - What can I do before the course starts?',\n",
       "  'course': 'data-engineering-zoomcamp'},\n",
       " {'text': 'All the main videos are stored in the Main “DATA ENGINEERING” playlist (no year specified). The Github repository has also been updated to show each video with a thumbnail, that would bring you directly to the same playlist below.\\nBelow is the MAIN PLAYLIST’. And then you refer to the year specific playlist for additional videos for that year like for office hours videos etc. Also find this playlist pinned to the slack channel.',\n",
       "  'section': 'General course-related questions',\n",
       "  'question': 'Course - Which playlist on YouTube should I refer to?',\n",
       "  'course': 'data-engineering-zoomcamp'},\n",
       " {'text': \"The purpose of this document is to capture frequently asked\\ntechnical question\\nThe next cohort starts in Jan 2025. More inFo at DTC Article.\\nRegister before the course starts using this link.\\nJoin the course Telegram channel with announcements.\\nDon’t forget to register in DataTalks.Club's Slack and join the channel.\",\n",
       "  'section': 'General course-related questions',\n",
       "  'question': 'Course - When will the course start?',\n",
       "  'course': 'data-engineering-zoomcamp'}]"
      ]
     },
     "execution_count": 9,
     "metadata": {},
     "output_type": "execute_result"
    }
   ],
   "source": [
    "# Giving a query to get the top n documents matching to our query\n",
    "q = \"The course has already started, can i still enroll?\"\n",
    "boost = {'question': 3, \n",
    "         'section': 0.5} # Used to give a field more or less importance \n",
    "filter_course = \"data-engineering-zoomcamp\"\n",
    "num_results = 5\n",
    "\n",
    "results = obj.search(query = q, boosts=boost, filter_course=filter_course, num_results=num_results)\n",
    "results"
   ]
  },
  {
   "cell_type": "markdown",
   "id": "1a5f64b8-77f5-4373-90eb-5f2d74ee2d38",
   "metadata": {},
   "source": [
    "# Prompt Creation"
   ]
  },
  {
   "cell_type": "markdown",
   "id": "8fce0a48-ccd7-4163-9168-1a94b80a2905",
   "metadata": {},
   "source": [
    "<b style=\"color:blue; font-size:1.3em\"> We have found the most relevant documents corresponding to our query. So our prompt will be such that the prompt should answer our question (query) based on the context, and context here will be set of Section-Question-Answer from all the similar documents"
   ]
  },
  {
   "cell_type": "code",
   "execution_count": 20,
   "id": "38c0cf69-2a45-4c0f-9c97-847da4e9847d",
   "metadata": {},
   "outputs": [],
   "source": [
    "prompt_template = \"\"\"\n",
    "You're a course teaching assistant. Answer the QUESTION based on the CONTEXT from the FAQ database. \n",
    "Use only the facts from the CONTEXT when answering the QUESTION.\n",
    "If the CONTEXT doesn't contains the answer, output None and explain the reason for None\n",
    "\n",
    "QUESTION: {question}\n",
    "\n",
    "CONTEXT: \n",
    "{context}\n",
    "\"\"\".strip()"
   ]
  },
  {
   "cell_type": "code",
   "execution_count": 21,
   "id": "90e6d462-56f0-41cf-8179-7e2648b0e54d",
   "metadata": {
    "scrolled": true
   },
   "outputs": [
    {
     "name": "stdout",
     "output_type": "stream",
     "text": [
      "section: General course-related questions\n",
      " question: How can we contribute to the course?\n",
      " answer: Star the repo! Share it with friends if you find it useful ❣️\n",
      "Create a PR if you see you can improve the text or the structure of the repository.\n",
      " \n",
      "section: General course-related questions\n",
      " question: Course - What are the prerequisites for this course?\n",
      " answer: GitHub - See DE-zoomcamp  prerequisites\n",
      " \n",
      "section: General course-related questions\n",
      " question: Course - What can I do before the course starts?\n",
      " answer: You can start by installing and setting up all the dependencies and requirements:\n",
      "Google cloud account\n",
      "Google Cloud SDK\n",
      "Python 3 (installed with Anaconda)\n",
      "Git\n",
      "Look over the prerequisites and syllabus to see if you are comfortable with these subjects.\n",
      " \n",
      "section: General course-related questions\n",
      " question: Course - Which playlist on YouTube should I refer to?\n",
      " answer: All the main videos are stored in the Main “DATA ENGINEERING” playlist (no year specified). The Github repository has also been updated to show each video with a thumbnail, that would bring you directly to the same playlist below.\n",
      "Below is the MAIN PLAYLIST’. And then you refer to the year specific playlist for additional videos for that year like for office hours videos etc. Also find this playlist pinned to the slack channel.\n",
      " \n",
      "section: General course-related questions\n",
      " question: Course - When will the course start?\n",
      " answer: The purpose of this document is to capture frequently asked\n",
      "technical question\n",
      "The next cohort starts in Jan 2025. More inFo at DTC Article.\n",
      "Register before the course starts using this link.\n",
      "Join the course Telegram channel with announcements.\n",
      "Don’t forget to register in DataTalks.Club's Slack and join the channel.\n",
      " \n",
      "\n"
     ]
    }
   ],
   "source": [
    "# Context creation to be passed into the prompt\n",
    "context = \"\"\n",
    "\n",
    "for doc in results:\n",
    "    context = context + f\"section: {doc['section']}\\n question: {doc['question']}\\n answer: {doc['text']}\\n \\n\"\n",
    "\n",
    "print(context)"
   ]
  },
  {
   "cell_type": "code",
   "execution_count": 22,
   "id": "ff8b9405-f8b0-4f52-9393-9baecf5d7bf8",
   "metadata": {},
   "outputs": [
    {
     "name": "stdout",
     "output_type": "stream",
     "text": [
      "You're a course teaching assistant. Answer the QUESTION based on the CONTEXT from the FAQ database. \n",
      "Use only the facts from the CONTEXT when answering the QUESTION.\n",
      "If the CONTEXT doesn't contains the answer, output None and explain the reason for None\n",
      "\n",
      "QUESTION: The course has already started, can i still enroll?\n",
      "\n",
      "CONTEXT: \n",
      "section: General course-related questions\n",
      " question: How can we contribute to the course?\n",
      " answer: Star the repo! Share it with friends if you find it useful ❣️\n",
      "Create a PR if you see you can improve the text or the structure of the repository.\n",
      " \n",
      "section: General course-related questions\n",
      " question: Course - What are the prerequisites for this course?\n",
      " answer: GitHub - See DE-zoomcamp  prerequisites\n",
      " \n",
      "section: General course-related questions\n",
      " question: Course - What can I do before the course starts?\n",
      " answer: You can start by installing and setting up all the dependencies and requirements:\n",
      "Google cloud account\n",
      "Google Cloud SDK\n",
      "Python 3 (installed with Anaconda)\n",
      "Git\n",
      "Look over the prerequisites and syllabus to see if you are comfortable with these subjects.\n",
      " \n",
      "section: General course-related questions\n",
      " question: Course - Which playlist on YouTube should I refer to?\n",
      " answer: All the main videos are stored in the Main “DATA ENGINEERING” playlist (no year specified). The Github repository has also been updated to show each video with a thumbnail, that would bring you directly to the same playlist below.\n",
      "Below is the MAIN PLAYLIST’. And then you refer to the year specific playlist for additional videos for that year like for office hours videos etc. Also find this playlist pinned to the slack channel.\n",
      " \n",
      "section: General course-related questions\n",
      " question: Course - When will the course start?\n",
      " answer: The purpose of this document is to capture frequently asked\n",
      "technical question\n",
      "The next cohort starts in Jan 2025. More inFo at DTC Article.\n",
      "Register before the course starts using this link.\n",
      "Join the course Telegram channel with announcements.\n",
      "Don’t forget to register in DataTalks.Club's Slack and join the channel.\n"
     ]
    }
   ],
   "source": [
    "# Prompt formatting\n",
    "prompt = prompt_template.format(question=q, context=context).strip()\n",
    "print(prompt)"
   ]
  },
  {
   "cell_type": "markdown",
   "id": "4120de0e-95fd-4ae8-bb21-30a1e27ed68e",
   "metadata": {},
   "source": [
    "# Passing the PROMPT to the openai using LLM model Apis"
   ]
  },
  {
   "cell_type": "markdown",
   "id": "dc1c662d-b940-45cf-8203-54126dddc5a6",
   "metadata": {},
   "source": [
    "# OpenAI API"
   ]
  },
  {
   "cell_type": "code",
   "execution_count": 23,
   "id": "0b4b1f2b-24ea-4d4c-9d96-b6706e5c401a",
   "metadata": {},
   "outputs": [],
   "source": [
    "client = OpenAI(api_key=all_cred[\"RAG_OPENAI_KEY\"])"
   ]
  },
  {
   "cell_type": "code",
   "execution_count": 24,
   "id": "28d1b36a-c6c2-4302-bd8c-f980f5128fda",
   "metadata": {},
   "outputs": [
    {
     "data": {
      "text/plain": [
       "ChatCompletion(id='chatcmpl-A3Y3Dj9N9TptEdEn66Q5NwjM8c0eG', choices=[Choice(finish_reason='stop', index=0, logprobs=None, message=ChatCompletionMessage(content='None. \\n\\nThe context does not provide information about whether enrollment is still possible after the course has started. It mentions the course start date and encourages registration before the course starts, but it does not clarify the policies for late enrollment.', refusal=None, role='assistant', function_call=None, tool_calls=None))], created=1725409239, model='gpt-4o-mini-2024-07-18', object='chat.completion', service_tier=None, system_fingerprint='fp_f33667828e', usage=CompletionUsage(completion_tokens=46, prompt_tokens=429, total_tokens=475))"
      ]
     },
     "execution_count": 24,
     "metadata": {},
     "output_type": "execute_result"
    }
   ],
   "source": [
    "response = client.chat.completions.create(\n",
    "    model=\"gpt-4o-mini\",\n",
    "    messages=[{\"role\":\"user\", \"content\":prompt}]\n",
    ")\n",
    "\n",
    "response"
   ]
  },
  {
   "cell_type": "code",
   "execution_count": 25,
   "id": "d9ccdd88-7867-471d-b5be-9caf598eee7e",
   "metadata": {},
   "outputs": [
    {
     "data": {
      "text/plain": [
       "'None. \\n\\nThe context does not provide information about whether enrollment is still possible after the course has started. It mentions the course start date and encourages registration before the course starts, but it does not clarify the policies for late enrollment.'"
      ]
     },
     "execution_count": 25,
     "metadata": {},
     "output_type": "execute_result"
    }
   ],
   "source": [
    "response.choices[0].message.content"
   ]
  },
  {
   "cell_type": "markdown",
   "id": "7fa21f9c-114f-4ef8-a1d9-bbd1cba234e4",
   "metadata": {},
   "source": [
    "# MistralAI API"
   ]
  },
  {
   "cell_type": "code",
   "execution_count": 26,
   "id": "fe03ee7f-b8fa-4c7a-9d88-98d8b4d01a89",
   "metadata": {},
   "outputs": [],
   "source": [
    "client = Mistral(api_key=all_cred[\"MISTRAL_KEY\"])"
   ]
  },
  {
   "cell_type": "code",
   "execution_count": 27,
   "id": "a4c9c5b6-39b7-43be-ab2d-bcd2945e0481",
   "metadata": {},
   "outputs": [
    {
     "data": {
      "text/plain": [
       "ChatCompletionResponse(id='c0a34ceadd4141669cdfc76e54fa8842', object='chat.completion', model='mistral-large-latest', usage=UsageInfo(prompt_tokens=513, completion_tokens=35, total_tokens=548), created=1725409241, choices=[ChatCompletionChoice(index=0, message=AssistantMessage(content='None. The CONTEXT provided does not include information about whether enrollment is possible after the course has started. Therefore, I cannot answer the question based on the given information.', tool_calls=None, prefix=False, role='assistant'), finish_reason='stop')])"
      ]
     },
     "execution_count": 27,
     "metadata": {},
     "output_type": "execute_result"
    }
   ],
   "source": [
    "chat_response = client.chat.complete(\n",
    "    model = \"mistral-large-latest\",\n",
    "    messages = [\n",
    "        {\n",
    "            \"role\": \"user\",\n",
    "            \"content\": prompt,\n",
    "        },\n",
    "    ]\n",
    ")\n",
    "\n",
    "chat_response"
   ]
  },
  {
   "cell_type": "code",
   "execution_count": 28,
   "id": "0436dbe1-f7c4-4b80-93d2-a0a5d24458ca",
   "metadata": {},
   "outputs": [
    {
     "name": "stdout",
     "output_type": "stream",
     "text": [
      "None. The CONTEXT provided does not include information about whether enrollment is possible after the course has started. Therefore, I cannot answer the question based on the given information.\n"
     ]
    }
   ],
   "source": [
    "print(chat_response.choices[0].message.content)"
   ]
  },
  {
   "cell_type": "code",
   "execution_count": null,
   "id": "dd7d6391-69a9-4ae9-86c9-ba95defcbe2b",
   "metadata": {},
   "outputs": [],
   "source": []
  },
  {
   "cell_type": "code",
   "execution_count": null,
   "id": "65dbd34c-e722-42ee-9dc8-e87074749c5f",
   "metadata": {},
   "outputs": [],
   "source": []
  }
 ],
 "metadata": {
  "kernelspec": {
   "display_name": "Python 3 (ipykernel)",
   "language": "python",
   "name": "python3"
  },
  "language_info": {
   "codemirror_mode": {
    "name": "ipython",
    "version": 3
   },
   "file_extension": ".py",
   "mimetype": "text/x-python",
   "name": "python",
   "nbconvert_exporter": "python",
   "pygments_lexer": "ipython3",
   "version": "3.10.13"
  }
 },
 "nbformat": 4,
 "nbformat_minor": 5
}
