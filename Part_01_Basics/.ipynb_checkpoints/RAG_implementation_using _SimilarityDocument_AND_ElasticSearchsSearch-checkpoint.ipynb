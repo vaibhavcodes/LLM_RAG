{
 "cells": [
  {
   "cell_type": "code",
   "execution_count": 1,
   "id": "4744ae2d-793e-4621-9fda-167b93e7f251",
   "metadata": {},
   "outputs": [],
   "source": [
    "# pip install mistralai"
   ]
  },
  {
   "cell_type": "code",
   "execution_count": 2,
   "id": "a25eab9f-d94a-48b3-941f-e3ccfb978f75",
   "metadata": {},
   "outputs": [],
   "source": [
    "import openai \n",
    "from openai import OpenAI\n",
    "from mistralai import Mistral\n",
    "import os\n",
    "from similarDocSearch import *\n",
    "import json\n",
    "from credentials import *"
   ]
  },
  {
   "cell_type": "markdown",
   "id": "33ff1f2a-6bbe-4e8e-bb02-603f3e8da47a",
   "metadata": {},
   "source": [
    "# Getting all the required credentials"
   ]
  },
  {
   "cell_type": "code",
   "execution_count": 3,
   "id": "eff8b3c8-7fbc-4601-bc61-2f28fa2fafda",
   "metadata": {},
   "outputs": [],
   "source": [
    "cred = Credentials()\n",
    "all_cred = cred.get_credential()"
   ]
  },
  {
   "cell_type": "markdown",
   "id": "c586d686-6d1a-409f-8ba7-a46b7950eece",
   "metadata": {
    "jp-MarkdownHeadingCollapsed": true
   },
   "source": [
    "# Reading the data file"
   ]
  },
  {
   "cell_type": "code",
   "execution_count": 4,
   "id": "38fbb751-1f6e-488d-82fe-d296c193f8f2",
   "metadata": {},
   "outputs": [
    {
     "data": {
      "text/plain": [
       "3"
      ]
     },
     "execution_count": 4,
     "metadata": {},
     "output_type": "execute_result"
    }
   ],
   "source": [
    "with open(\"data/documents.json\", 'rt') as f_in:\n",
    "    docs_raw = json.load(f_in)\n",
    "\n",
    "len(docs_raw) # # as it's of 3 courses"
   ]
  },
  {
   "cell_type": "code",
   "execution_count": 5,
   "id": "126b5f18-aae5-43b8-9559-74f96c8a5ab8",
   "metadata": {},
   "outputs": [],
   "source": [
    "documents = []\n",
    "\n",
    "for course_dict in docs_raw:\n",
    "    for doc in course_dict['documents']:\n",
    "        doc['course'] = course_dict['course'] \n",
    "        documents.append(doc)"
   ]
  },
  {
   "cell_type": "code",
   "execution_count": 6,
   "id": "c5229a6a-be69-4a6c-8a22-146368cf3102",
   "metadata": {},
   "outputs": [
    {
     "data": {
      "text/plain": [
       "[{'text': \"The purpose of this document is to capture frequently asked\\ntechnical question\\nThe next cohort starts in Jan 2025. More inFo at DTC Article.\\nRegister before the course starts using this link.\\nJoin the course Telegram channel with announcements.\\nDon’t forget to register in DataTalks.Club's Slack and join the channel.\",\n",
       "  'section': 'General course-related questions',\n",
       "  'question': 'Course - When will the course start?',\n",
       "  'course': 'data-engineering-zoomcamp'},\n",
       " {'text': 'GitHub - See DE-zoomcamp  prerequisites',\n",
       "  'section': 'General course-related questions',\n",
       "  'question': 'Course - What are the prerequisites for this course?',\n",
       "  'course': 'data-engineering-zoomcamp'}]"
      ]
     },
     "execution_count": 6,
     "metadata": {},
     "output_type": "execute_result"
    }
   ],
   "source": [
    "documents[:2]"
   ]
  },
  {
   "cell_type": "markdown",
   "id": "491ffd06-9ee9-4456-9935-35f844e3ca37",
   "metadata": {
    "jp-MarkdownHeadingCollapsed": true
   },
   "source": [
    "# Retrieving the top n documents matching or most similar to the user's passed query"
   ]
  },
  {
   "cell_type": "code",
   "execution_count": 7,
   "id": "ebcbcbde-1526-4916-bac2-42a1dc7606a7",
   "metadata": {},
   "outputs": [
    {
     "data": {
      "text/plain": [
       "<similarDocSearch.similarDocSearch at 0x790cac5945e0>"
      ]
     },
     "execution_count": 7,
     "metadata": {},
     "output_type": "execute_result"
    }
   ],
   "source": [
    "# Initializing the class similarDocSearch\n",
    "obj = similarDocSearch(text_fields = [\"question\", \"text\", \"section\"])\n",
    "obj"
   ]
  },
  {
   "cell_type": "code",
   "execution_count": 8,
   "id": "d19a227a-c034-4457-a943-51ff7e66325a",
   "metadata": {},
   "outputs": [
    {
     "data": {
      "text/plain": [
       "<similarDocSearch.similarDocSearch at 0x790cac5945e0>"
      ]
     },
     "execution_count": 8,
     "metadata": {},
     "output_type": "execute_result"
    }
   ],
   "source": [
    "# Fitting\n",
    "obj.fit(documents)"
   ]
  },
  {
   "cell_type": "code",
   "execution_count": 9,
   "id": "98024b58-795d-441d-8b7b-c26a6a9bdd89",
   "metadata": {},
   "outputs": [
    {
     "data": {
      "text/plain": [
       "[{'text': 'Star the repo! Share it with friends if you find it useful ❣️\\nCreate a PR if you see you can improve the text or the structure of the repository.',\n",
       "  'section': 'General course-related questions',\n",
       "  'question': 'How can we contribute to the course?',\n",
       "  'course': 'data-engineering-zoomcamp'},\n",
       " {'text': 'GitHub - See DE-zoomcamp  prerequisites',\n",
       "  'section': 'General course-related questions',\n",
       "  'question': 'Course - What are the prerequisites for this course?',\n",
       "  'course': 'data-engineering-zoomcamp'},\n",
       " {'text': 'You can start by installing and setting up all the dependencies and requirements:\\nGoogle cloud account\\nGoogle Cloud SDK\\nPython 3 (installed with Anaconda)\\nGit\\nLook over the prerequisites and syllabus to see if you are comfortable with these subjects.',\n",
       "  'section': 'General course-related questions',\n",
       "  'question': 'Course - What can I do before the course starts?',\n",
       "  'course': 'data-engineering-zoomcamp'},\n",
       " {'text': 'All the main videos are stored in the Main “DATA ENGINEERING” playlist (no year specified). The Github repository has also been updated to show each video with a thumbnail, that would bring you directly to the same playlist below.\\nBelow is the MAIN PLAYLIST’. And then you refer to the year specific playlist for additional videos for that year like for office hours videos etc. Also find this playlist pinned to the slack channel.',\n",
       "  'section': 'General course-related questions',\n",
       "  'question': 'Course - Which playlist on YouTube should I refer to?',\n",
       "  'course': 'data-engineering-zoomcamp'},\n",
       " {'text': \"The purpose of this document is to capture frequently asked\\ntechnical question\\nThe next cohort starts in Jan 2025. More inFo at DTC Article.\\nRegister before the course starts using this link.\\nJoin the course Telegram channel with announcements.\\nDon’t forget to register in DataTalks.Club's Slack and join the channel.\",\n",
       "  'section': 'General course-related questions',\n",
       "  'question': 'Course - When will the course start?',\n",
       "  'course': 'data-engineering-zoomcamp'}]"
      ]
     },
     "execution_count": 9,
     "metadata": {},
     "output_type": "execute_result"
    }
   ],
   "source": [
    "# Giving a query to get the top n documents matching to our query\n",
    "q = \"The course has already started, can i still enroll?\"\n",
    "boost = {'question': 3, \n",
    "         'section': 0.5} # Used to give a field more or less importance \n",
    "filter_course = \"data-engineering-zoomcamp\"\n",
    "num_results = 5\n",
    "\n",
    "results = obj.search(query = q, boosts=boost, filter_course=filter_course, num_results=num_results)\n",
    "results"
   ]
  },
  {
   "cell_type": "markdown",
   "id": "1a5f64b8-77f5-4373-90eb-5f2d74ee2d38",
   "metadata": {
    "jp-MarkdownHeadingCollapsed": true
   },
   "source": [
    "# Prompt Creation"
   ]
  },
  {
   "cell_type": "markdown",
   "id": "8fce0a48-ccd7-4163-9168-1a94b80a2905",
   "metadata": {},
   "source": [
    "<b style=\"color:blue; font-size:1.3em\"> We have found the most relevant documents corresponding to our query. So our prompt will be such that the prompt should answer our question (query) based on the context, and context here will be set of Section-Question-Answer from all the similar documents"
   ]
  },
  {
   "cell_type": "code",
   "execution_count": 10,
   "id": "38c0cf69-2a45-4c0f-9c97-847da4e9847d",
   "metadata": {},
   "outputs": [],
   "source": [
    "prompt_template = \"\"\"\n",
    "You're a course teaching assistant. Answer the QUESTION based on the CONTEXT from the FAQ database. \n",
    "Use only the facts from the CONTEXT when answering the QUESTION.\n",
    "If the CONTEXT doesn't contains the answer, output None and explain the reason for None\n",
    "\n",
    "QUESTION: {question}\n",
    "\n",
    "CONTEXT: \n",
    "{context}\n",
    "\"\"\".strip()"
   ]
  },
  {
   "cell_type": "code",
   "execution_count": 11,
   "id": "90e6d462-56f0-41cf-8179-7e2648b0e54d",
   "metadata": {
    "scrolled": true
   },
   "outputs": [
    {
     "name": "stdout",
     "output_type": "stream",
     "text": [
      "section: General course-related questions\n",
      " question: How can we contribute to the course?\n",
      " answer: Star the repo! Share it with friends if you find it useful ❣️\n",
      "Create a PR if you see you can improve the text or the structure of the repository.\n",
      " \n",
      "section: General course-related questions\n",
      " question: Course - What are the prerequisites for this course?\n",
      " answer: GitHub - See DE-zoomcamp  prerequisites\n",
      " \n",
      "section: General course-related questions\n",
      " question: Course - What can I do before the course starts?\n",
      " answer: You can start by installing and setting up all the dependencies and requirements:\n",
      "Google cloud account\n",
      "Google Cloud SDK\n",
      "Python 3 (installed with Anaconda)\n",
      "Git\n",
      "Look over the prerequisites and syllabus to see if you are comfortable with these subjects.\n",
      " \n",
      "section: General course-related questions\n",
      " question: Course - Which playlist on YouTube should I refer to?\n",
      " answer: All the main videos are stored in the Main “DATA ENGINEERING” playlist (no year specified). The Github repository has also been updated to show each video with a thumbnail, that would bring you directly to the same playlist below.\n",
      "Below is the MAIN PLAYLIST’. And then you refer to the year specific playlist for additional videos for that year like for office hours videos etc. Also find this playlist pinned to the slack channel.\n",
      " \n",
      "section: General course-related questions\n",
      " question: Course - When will the course start?\n",
      " answer: The purpose of this document is to capture frequently asked\n",
      "technical question\n",
      "The next cohort starts in Jan 2025. More inFo at DTC Article.\n",
      "Register before the course starts using this link.\n",
      "Join the course Telegram channel with announcements.\n",
      "Don’t forget to register in DataTalks.Club's Slack and join the channel.\n",
      " \n",
      "\n"
     ]
    }
   ],
   "source": [
    "# Context creation to be passed into the prompt\n",
    "context = \"\"\n",
    "\n",
    "for doc in results:\n",
    "    context = context + f\"section: {doc['section']}\\n question: {doc['question']}\\n answer: {doc['text']}\\n \\n\"\n",
    "\n",
    "print(context)"
   ]
  },
  {
   "cell_type": "code",
   "execution_count": 12,
   "id": "ff8b9405-f8b0-4f52-9393-9baecf5d7bf8",
   "metadata": {},
   "outputs": [
    {
     "name": "stdout",
     "output_type": "stream",
     "text": [
      "You're a course teaching assistant. Answer the QUESTION based on the CONTEXT from the FAQ database. \n",
      "Use only the facts from the CONTEXT when answering the QUESTION.\n",
      "If the CONTEXT doesn't contains the answer, output None and explain the reason for None\n",
      "\n",
      "QUESTION: The course has already started, can i still enroll?\n",
      "\n",
      "CONTEXT: \n",
      "section: General course-related questions\n",
      " question: How can we contribute to the course?\n",
      " answer: Star the repo! Share it with friends if you find it useful ❣️\n",
      "Create a PR if you see you can improve the text or the structure of the repository.\n",
      " \n",
      "section: General course-related questions\n",
      " question: Course - What are the prerequisites for this course?\n",
      " answer: GitHub - See DE-zoomcamp  prerequisites\n",
      " \n",
      "section: General course-related questions\n",
      " question: Course - What can I do before the course starts?\n",
      " answer: You can start by installing and setting up all the dependencies and requirements:\n",
      "Google cloud account\n",
      "Google Cloud SDK\n",
      "Python 3 (installed with Anaconda)\n",
      "Git\n",
      "Look over the prerequisites and syllabus to see if you are comfortable with these subjects.\n",
      " \n",
      "section: General course-related questions\n",
      " question: Course - Which playlist on YouTube should I refer to?\n",
      " answer: All the main videos are stored in the Main “DATA ENGINEERING” playlist (no year specified). The Github repository has also been updated to show each video with a thumbnail, that would bring you directly to the same playlist below.\n",
      "Below is the MAIN PLAYLIST’. And then you refer to the year specific playlist for additional videos for that year like for office hours videos etc. Also find this playlist pinned to the slack channel.\n",
      " \n",
      "section: General course-related questions\n",
      " question: Course - When will the course start?\n",
      " answer: The purpose of this document is to capture frequently asked\n",
      "technical question\n",
      "The next cohort starts in Jan 2025. More inFo at DTC Article.\n",
      "Register before the course starts using this link.\n",
      "Join the course Telegram channel with announcements.\n",
      "Don’t forget to register in DataTalks.Club's Slack and join the channel.\n"
     ]
    }
   ],
   "source": [
    "# Prompt formatting\n",
    "prompt = prompt_template.format(question=q, context=context).strip()\n",
    "print(prompt)"
   ]
  },
  {
   "cell_type": "markdown",
   "id": "4120de0e-95fd-4ae8-bb21-30a1e27ed68e",
   "metadata": {},
   "source": [
    "# Passing the PROMPT to the openai using LLM model Apis"
   ]
  },
  {
   "cell_type": "markdown",
   "id": "dc1c662d-b940-45cf-8203-54126dddc5a6",
   "metadata": {
    "jp-MarkdownHeadingCollapsed": true
   },
   "source": [
    "# OpenAI API"
   ]
  },
  {
   "cell_type": "code",
   "execution_count": 13,
   "id": "0b4b1f2b-24ea-4d4c-9d96-b6706e5c401a",
   "metadata": {},
   "outputs": [],
   "source": [
    "client = OpenAI(api_key=all_cred[\"RAG_OPENAI_KEY\"])"
   ]
  },
  {
   "cell_type": "code",
   "execution_count": 14,
   "id": "28d1b36a-c6c2-4302-bd8c-f980f5128fda",
   "metadata": {},
   "outputs": [
    {
     "data": {
      "text/plain": [
       "ChatCompletion(id='chatcmpl-A5M336xqpSGGduZvAuk3UMoekAwxk', choices=[Choice(finish_reason='stop', index=0, logprobs=None, message=ChatCompletionMessage(content='None. The CONTEXT does not provide information about enrolling in the course after it has already started. It only mentions the registration process before the course starts.', refusal=None, role='assistant', function_call=None, tool_calls=None))], created=1725839757, model='gpt-4o-mini-2024-07-18', object='chat.completion', service_tier=None, system_fingerprint='fp_483d39d857', usage=CompletionUsage(completion_tokens=31, prompt_tokens=429, total_tokens=460))"
      ]
     },
     "execution_count": 14,
     "metadata": {},
     "output_type": "execute_result"
    }
   ],
   "source": [
    "response = client.chat.completions.create(\n",
    "    model=\"gpt-4o-mini\",\n",
    "    messages=[{\"role\":\"user\", \"content\":prompt}]\n",
    ")\n",
    "\n",
    "response"
   ]
  },
  {
   "cell_type": "code",
   "execution_count": 15,
   "id": "d9ccdd88-7867-471d-b5be-9caf598eee7e",
   "metadata": {},
   "outputs": [
    {
     "data": {
      "text/plain": [
       "'None. The CONTEXT does not provide information about enrolling in the course after it has already started. It only mentions the registration process before the course starts.'"
      ]
     },
     "execution_count": 15,
     "metadata": {},
     "output_type": "execute_result"
    }
   ],
   "source": [
    "response.choices[0].message.content"
   ]
  },
  {
   "cell_type": "markdown",
   "id": "7fa21f9c-114f-4ef8-a1d9-bbd1cba234e4",
   "metadata": {
    "jp-MarkdownHeadingCollapsed": true
   },
   "source": [
    "# MistralAI API"
   ]
  },
  {
   "cell_type": "code",
   "execution_count": 16,
   "id": "fe03ee7f-b8fa-4c7a-9d88-98d8b4d01a89",
   "metadata": {},
   "outputs": [],
   "source": [
    "client = Mistral(api_key=all_cred[\"MISTRAL_KEY\"])"
   ]
  },
  {
   "cell_type": "code",
   "execution_count": 17,
   "id": "a4c9c5b6-39b7-43be-ab2d-bcd2945e0481",
   "metadata": {},
   "outputs": [
    {
     "data": {
      "text/plain": [
       "ChatCompletionResponse(id='11e23c4b62f3405fb18c699fa2945148', object='chat.completion', model='mistral-large-latest', usage=UsageInfo(prompt_tokens=513, completion_tokens=38, total_tokens=551), created=1725839758, choices=[ChatCompletionChoice(index=0, message=AssistantMessage(content='None. The CONTEXT does not provide information about whether enrollment is possible after the course has started. It only mentions the start date for the next cohort and registration details.', tool_calls=None, prefix=False, role='assistant'), finish_reason='stop')])"
      ]
     },
     "execution_count": 17,
     "metadata": {},
     "output_type": "execute_result"
    }
   ],
   "source": [
    "chat_response = client.chat.complete(\n",
    "    model = \"mistral-large-latest\",\n",
    "    messages = [\n",
    "        {\n",
    "            \"role\": \"user\",\n",
    "            \"content\": prompt,\n",
    "        },\n",
    "    ]\n",
    ")\n",
    "\n",
    "chat_response"
   ]
  },
  {
   "cell_type": "code",
   "execution_count": 18,
   "id": "0436dbe1-f7c4-4b80-93d2-a0a5d24458ca",
   "metadata": {},
   "outputs": [
    {
     "name": "stdout",
     "output_type": "stream",
     "text": [
      "None. The CONTEXT does not provide information about whether enrollment is possible after the course has started. It only mentions the start date for the next cohort and registration details.\n"
     ]
    }
   ],
   "source": [
    "print(chat_response.choices[0].message.content)"
   ]
  },
  {
   "cell_type": "code",
   "execution_count": null,
   "id": "dd7d6391-69a9-4ae9-86c9-ba95defcbe2b",
   "metadata": {},
   "outputs": [],
   "source": []
  },
  {
   "cell_type": "markdown",
   "id": "9f316c76-1554-466c-af2e-2f3597bbe26b",
   "metadata": {
    "jp-MarkdownHeadingCollapsed": true
   },
   "source": [
    "# <b style=\"color:red; font-size:1.3em\"> Combining the above code and putting it into functions"
   ]
  },
  {
   "cell_type": "code",
   "execution_count": 19,
   "id": "043a0f00-6b49-4fea-b4d4-f64b1dca8464",
   "metadata": {},
   "outputs": [],
   "source": [
    "# Function that would search the most similar documents to our query and will return it\n",
    "def search(query):\n",
    "    boost = {'question': 3, \n",
    "         'section': 0.5} # Used to give a field more or less importance \n",
    "    \n",
    "    filter_course = \"data-engineering-zoomcamp\"\n",
    "    num_results = 10\n",
    "    \n",
    "    results = obj.search(query = query, boosts=boost, filter_course=filter_course, num_results=num_results)\n",
    "    return results"
   ]
  },
  {
   "cell_type": "code",
   "execution_count": 20,
   "id": "f2340481-89d3-4864-b86c-6be741bd369b",
   "metadata": {},
   "outputs": [],
   "source": [
    "# Function that would build up the prompt\n",
    "def build_prompt(query, search_results):\n",
    "    prompt_template = \"\"\"\n",
    "    You're a course teaching assistant. Answer the QUESTION based on the CONTEXT from the FAQ database. \n",
    "    Use only the facts from the CONTEXT when answering the QUESTION.\n",
    "    If the CONTEXT doesn't contains the answer, output None\n",
    "    \n",
    "    QUESTION: {question}\n",
    "    \n",
    "    CONTEXT: \n",
    "    {context}\n",
    "    \"\"\".strip()\n",
    "\n",
    "    # Context creation to be passed into the prompt\n",
    "    context = \"\"\n",
    "    \n",
    "    for doc in search_results:\n",
    "        context = context + f\"section: {doc['section']}\\n question: {doc['question']}\\n answer: {doc['text']}\\n \\n\"\n",
    "    \n",
    "    # Prompt formatting\n",
    "    prompt = prompt_template.format(question=query, context=context).strip()\n",
    "    \n",
    "    return(prompt)"
   ]
  },
  {
   "cell_type": "code",
   "execution_count": 21,
   "id": "69db7080-f642-45df-8bff-9bb5766e30f2",
   "metadata": {},
   "outputs": [],
   "source": [
    "# Function that would use LLM\n",
    "def llm(prompt):\n",
    "    client = OpenAI(api_key=all_cred[\"RAG_OPENAI_KEY\"])\n",
    "\n",
    "    response = client.chat.completions.create(\n",
    "    model=\"gpt-4o-mini\",\n",
    "    messages=[{\"role\":\"user\", \"content\":prompt}]\n",
    "    )\n",
    "    \n",
    "    return(response.choices[0].message.content)"
   ]
  },
  {
   "cell_type": "code",
   "execution_count": 22,
   "id": "27a8d7fd-46db-402d-9aa0-dfff41a77650",
   "metadata": {},
   "outputs": [],
   "source": [
    "# Function that would make a whole RAG\n",
    "def RAG(query):\n",
    "    search_results = search(query)\n",
    "    prompt = build_prompt(query, search_results)\n",
    "    answer = llm(prompt)\n",
    "    return answer"
   ]
  },
  {
   "cell_type": "code",
   "execution_count": 23,
   "id": "1665794e-19d9-4caf-9941-5108be28689e",
   "metadata": {},
   "outputs": [
    {
     "data": {
      "text/plain": [
       "\"Yes, you can still join the course after the start date. Even if you don't register, you're still eligible to submit the homeworks. However, be aware that there will be deadlines for turning in the final projects.\""
      ]
     },
     "execution_count": 23,
     "metadata": {},
     "output_type": "execute_result"
    }
   ],
   "source": [
    "q = \"The course has already started, can i still enroll?\"\n",
    "RAG(q)"
   ]
  },
  {
   "cell_type": "code",
   "execution_count": null,
   "id": "99ef3528-a4d0-4da3-8cef-8eb01e9cecf3",
   "metadata": {},
   "outputs": [],
   "source": []
  },
  {
   "cell_type": "markdown",
   "id": "f5412966-88be-4a88-8790-dc56f69bfc19",
   "metadata": {},
   "source": [
    "# Implementing the RAG using ElasticSearch Vector DB"
   ]
  },
  {
   "cell_type": "code",
   "execution_count": 24,
   "id": "944766ed-ba4d-461b-b099-783a2c510e90",
   "metadata": {},
   "outputs": [],
   "source": [
    "from elasticsearch import Elasticsearch"
   ]
  },
  {
   "cell_type": "code",
   "execution_count": 25,
   "id": "d1ce3d96-ae64-413b-9c7e-e45e3752c034",
   "metadata": {},
   "outputs": [],
   "source": [
    "# Making a connection to elasticsearch\n",
    "es_client = Elasticsearch(\"http://localhost:9200\")"
   ]
  },
  {
   "cell_type": "code",
   "execution_count": 26,
   "id": "5c1ce66e-e7d7-44b5-9ba8-f9c8133a3435",
   "metadata": {},
   "outputs": [
    {
     "data": {
      "text/plain": [
       "ObjectApiResponse({'name': '60b753bb870d', 'cluster_name': 'docker-cluster', 'cluster_uuid': 'xpwsjCFzRnaTwVw02hhNNQ', 'version': {'number': '8.4.3', 'build_flavor': 'default', 'build_type': 'docker', 'build_hash': '42f05b9372a9a4a470db3b52817899b99a76ee73', 'build_date': '2022-10-04T07:17:24.662462378Z', 'build_snapshot': False, 'lucene_version': '9.3.0', 'minimum_wire_compatibility_version': '7.17.0', 'minimum_index_compatibility_version': '7.0.0'}, 'tagline': 'You Know, for Search'})"
      ]
     },
     "execution_count": 26,
     "metadata": {},
     "output_type": "execute_result"
    }
   ],
   "source": [
    "# Checking the connection\n",
    "es_client.info()"
   ]
  },
  {
   "cell_type": "code",
   "execution_count": 27,
   "id": "8e2009d3-c84c-42ca-934a-2b03db5fa1f1",
   "metadata": {},
   "outputs": [
    {
     "data": {
      "text/plain": [
       "ObjectApiResponse({'acknowledged': True, 'shards_acknowledged': True, 'index': 'course-questions'})"
      ]
     },
     "execution_count": 27,
     "metadata": {},
     "output_type": "execute_result"
    }
   ],
   "source": [
    "# Index Creation\n",
    "index_settings = {\n",
    "    \"settings\": {\n",
    "        \"number_of_shards\": 1,\n",
    "        \"number_of_replicas\": 0\n",
    "    },\n",
    "    \"mappings\": {\n",
    "        \"properties\": {\n",
    "            \"text\": {\"type\": \"text\"},\n",
    "            \"section\": {\"type\": \"text\"},\n",
    "            \"question\": {\"type\": \"text\"},\n",
    "            \"course\": {\"type\": \"keyword\"} \n",
    "        }\n",
    "    }\n",
    "}\n",
    "\n",
    "index_name = \"course-questions\"\n",
    "\n",
    "es_client.indices.create(index=index_name, body=index_settings)"
   ]
  },
  {
   "cell_type": "code",
   "execution_count": 28,
   "id": "6103dd43-2c18-4d66-ac72-a86af9e3cc73",
   "metadata": {},
   "outputs": [
    {
     "data": {
      "text/plain": [
       "{'text': \"The purpose of this document is to capture frequently asked\\ntechnical question\\nThe next cohort starts in Jan 2025. More inFo at DTC Article.\\nRegister before the course starts using this link.\\nJoin the course Telegram channel with announcements.\\nDon’t forget to register in DataTalks.Club's Slack and join the channel.\",\n",
       " 'section': 'General course-related questions',\n",
       " 'question': 'Course - When will the course start?',\n",
       " 'course': 'data-engineering-zoomcamp'}"
      ]
     },
     "execution_count": 28,
     "metadata": {},
     "output_type": "execute_result"
    }
   ],
   "source": [
    "# Checking how our document looks\n",
    "documents[0]"
   ]
  },
  {
   "cell_type": "code",
   "execution_count": 29,
   "id": "bab2f062-bc1c-4dab-88f6-96500b3f5829",
   "metadata": {},
   "outputs": [
    {
     "name": "stderr",
     "output_type": "stream",
     "text": [
      "/usr/local/python/3.10.13/lib/python3.10/site-packages/tqdm/auto.py:21: TqdmWarning: IProgress not found. Please update jupyter and ipywidgets. See https://ipywidgets.readthedocs.io/en/stable/user_install.html\n",
      "  from .autonotebook import tqdm as notebook_tqdm\n"
     ]
    }
   ],
   "source": [
    "# Adding progressbar\n",
    "from tqdm.auto import tqdm"
   ]
  },
  {
   "cell_type": "code",
   "execution_count": 30,
   "id": "4340572b-92e8-48ca-b354-8c9aaa32b1b7",
   "metadata": {},
   "outputs": [],
   "source": [
    "# Creating indexes for all the documents\n",
    "for doc in documents:\n",
    "    es_client.index(index=index_name, document=doc)"
   ]
  },
  {
   "cell_type": "code",
   "execution_count": 31,
   "id": "7f23dc54-4d95-4f20-94ce-33fe327e2740",
   "metadata": {},
   "outputs": [],
   "source": [
    "# Function that would search a document index inside the vectorDB\n",
    "def elastic_search(query):\n",
    "    search_query = {\n",
    "        \"size\": 5,\n",
    "        \"query\": {\n",
    "            \"bool\": {\n",
    "                \"must\": {\n",
    "                    \"multi_match\": {\n",
    "                        \"query\": query,\n",
    "                        \"fields\": [\"question^3\", \"text\", \"section\"],\n",
    "                        \"type\": \"best_fields\"\n",
    "                    }\n",
    "                },\n",
    "                \"filter\": {\n",
    "                    \"term\": {\n",
    "                        \"course\": \"data-engineering-zoomcamp\"\n",
    "                    }\n",
    "                }\n",
    "            }\n",
    "        }\n",
    "    }\n",
    "\n",
    "    response = es_client.search(index=index_name, body=search_query)\n",
    "\n",
    "    result_docs = []\n",
    "    doc_score = []\n",
    "    for hit in response['hits']['hits']:\n",
    "        result_docs.append(hit['_source']) # Storing the document searcged from the vector DB {text, section, question, course}\n",
    "        doc_score.append(hit['_source']) # Storing the score of all the model\n",
    "\n",
    "    return result_docs"
   ]
  },
  {
   "cell_type": "code",
   "execution_count": 32,
   "id": "cdf8ffcd-90ca-4271-ab01-fbbc27cbe8e1",
   "metadata": {},
   "outputs": [
    {
     "data": {
      "text/plain": [
       "[{'text': \"Yes, even if you don't register, you're still eligible to submit the homeworks.\\nBe aware, however, that there will be deadlines for turning in the final projects. So don't leave everything for the last minute.\",\n",
       "  'section': 'General course-related questions',\n",
       "  'question': 'Course - Can I still join the course after the start date?',\n",
       "  'course': 'data-engineering-zoomcamp'},\n",
       " {'text': 'You can start by installing and setting up all the dependencies and requirements:\\nGoogle cloud account\\nGoogle Cloud SDK\\nPython 3 (installed with Anaconda)\\nGit\\nLook over the prerequisites and syllabus to see if you are comfortable with these subjects.',\n",
       "  'section': 'General course-related questions',\n",
       "  'question': 'Course - What can I do before the course starts?',\n",
       "  'course': 'data-engineering-zoomcamp'},\n",
       " {'text': 'Yes, we will keep all the materials after the course /finishes, so you can follow the course at your own pace after it finishes.\\nYou can also continue looking at the homeworks and continue preparing for the next cohort. I guess you can also start working on your final capstone project.',\n",
       "  'section': 'General course-related questions',\n",
       "  'question': 'Course - Can I follow the course after it finishes?',\n",
       "  'course': 'data-engineering-zoomcamp'},\n",
       " {'text': 'Yes, the slack channel remains open and you can ask questions there. But always search the channel first and second, check the FAQ (this document), most likely all your questions are already answered here.\\nYou can also tag the bot @ZoomcampQABot to help you conduct the search, but don’t rely on its answers 100%, it is pretty good though.',\n",
       "  'section': 'General course-related questions',\n",
       "  'question': 'Course - Can I get support if I take the course in the self-paced mode?',\n",
       "  'course': 'data-engineering-zoomcamp'},\n",
       " {'text': \"You don't need it. You're accepted. You can also just start learning and submitting homework without registering. It is not checked against any registered list. Registration is just to gauge interest before the start date.\",\n",
       "  'section': 'General course-related questions',\n",
       "  'question': 'Course - I have registered for the Data Engineering Bootcamp. When can I expect to receive the confirmation email?',\n",
       "  'course': 'data-engineering-zoomcamp'}]"
      ]
     },
     "execution_count": 32,
     "metadata": {},
     "output_type": "execute_result"
    }
   ],
   "source": [
    "query = \"The course has already started, can i still enroll?\"\n",
    "elastic_search(query)"
   ]
  },
  {
   "cell_type": "code",
   "execution_count": 33,
   "id": "2fe10166-64bb-44f9-9482-8d29f059379a",
   "metadata": {},
   "outputs": [],
   "source": [
    "# Function that would make a whole RAG\n",
    "def RAG(query):\n",
    "    search_results = elastic_search(query)\n",
    "    prompt = build_prompt(query, search_results)\n",
    "    answer = llm(prompt)\n",
    "    return answer"
   ]
  },
  {
   "cell_type": "code",
   "execution_count": 34,
   "id": "ea00ea0f-fd19-4c89-9e09-050aeff19dcc",
   "metadata": {},
   "outputs": [
    {
     "data": {
      "text/plain": [
       "\"Yes, even if you don't register, you're still eligible to submit the homeworks. Be aware, however, that there will be deadlines for turning in the final projects. So don't leave everything for the last minute.\""
      ]
     },
     "execution_count": 34,
     "metadata": {},
     "output_type": "execute_result"
    }
   ],
   "source": [
    "RAG(query)"
   ]
  },
  {
   "cell_type": "code",
   "execution_count": null,
   "id": "796979c4-7275-406b-9703-9470fa043402",
   "metadata": {},
   "outputs": [],
   "source": []
  },
  {
   "cell_type": "code",
   "execution_count": null,
   "id": "38c4b395-10dd-44dd-b636-af7f030a1980",
   "metadata": {},
   "outputs": [],
   "source": []
  },
  {
   "cell_type": "markdown",
   "id": "807788ce-2e67-40b1-bb23-23a77c37daf0",
   "metadata": {},
   "source": [
    "# HW"
   ]
  },
  {
   "cell_type": "code",
   "execution_count": 37,
   "id": "69095bec-ea4b-4020-99fb-13b693c22361",
   "metadata": {},
   "outputs": [],
   "source": [
    "# Function that would search a document index inside the vectorDB\n",
    "def elastic_search(query):\n",
    "    search_query = {\n",
    "        \"size\": 5,\n",
    "        \"query\": {\n",
    "            \"bool\": {\n",
    "                \"must\": {\n",
    "                    \"multi_match\": {\n",
    "                        \"query\": query,\n",
    "                        \"fields\": [\"question^4\", \"text\", \"section\"],\n",
    "                        \"type\": \"best_fields\"\n",
    "                    }\n",
    "                },\n",
    "                \"filter\": {\n",
    "                    \"term\": {\n",
    "                        \"course\": \"data-engineering-zoomcamp\"\n",
    "                    }\n",
    "                }\n",
    "            }\n",
    "        }\n",
    "    }\n",
    "\n",
    "    response = es_client.search(index=index_name, body=search_query)\n",
    "\n",
    "    result_docs = []\n",
    "    for hit in response['hits']['hits']:\n",
    "        result_docs.append(hit['_score'])\n",
    "\n",
    "    return result_docs"
   ]
  },
  {
   "cell_type": "code",
   "execution_count": 38,
   "id": "2a427002-f64c-4062-bba0-95d29d76582f",
   "metadata": {},
   "outputs": [
    {
     "data": {
      "text/plain": [
       "[75.07789, 43.516926, 38.709663, 38.077675, 35.701992]"
      ]
     },
     "execution_count": 38,
     "metadata": {},
     "output_type": "execute_result"
    }
   ],
   "source": [
    "elastic_search(\"How do I execute a command in a running docker container?\")"
   ]
  },
  {
   "cell_type": "code",
   "execution_count": null,
   "id": "fb76153f-c51a-4ef7-8bd2-ce2124dc0184",
   "metadata": {},
   "outputs": [],
   "source": []
  }
 ],
 "metadata": {
  "kernelspec": {
   "display_name": "Python 3 (ipykernel)",
   "language": "python",
   "name": "python3"
  },
  "language_info": {
   "codemirror_mode": {
    "name": "ipython",
    "version": 3
   },
   "file_extension": ".py",
   "mimetype": "text/x-python",
   "name": "python",
   "nbconvert_exporter": "python",
   "pygments_lexer": "ipython3",
   "version": "3.10.13"
  }
 },
 "nbformat": 4,
 "nbformat_minor": 5
}
