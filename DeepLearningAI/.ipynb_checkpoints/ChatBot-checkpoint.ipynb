{
 "cells": [
  {
   "cell_type": "code",
   "execution_count": 1,
   "id": "4de66ac2-97a4-4ed7-ba97-b991a67ed4a6",
   "metadata": {},
   "outputs": [],
   "source": [
    "import os\n",
    "from openai import OpenAI\n",
    "# Credentials is a file created to store all my credentials\n",
    "from credentials import *"
   ]
  },
  {
   "cell_type": "markdown",
   "id": "56deeaa0-95b6-4348-ab32-4be9cf10047a",
   "metadata": {},
   "source": [
    "# Creating an object of Credentials class"
   ]
  },
  {
   "cell_type": "code",
   "execution_count": 2,
   "id": "90a65998-1165-4d9d-8faf-d6bdf4f372a4",
   "metadata": {},
   "outputs": [],
   "source": [
    "cred = Credentials()\n",
    "all_cred = cred.get_credential()"
   ]
  },
  {
   "cell_type": "markdown",
   "id": "e7f7b68a-bf8a-4f7d-895c-d60987272a94",
   "metadata": {},
   "source": [
    "# Creating OpenAI client object to access the API"
   ]
  },
  {
   "cell_type": "code",
   "execution_count": 3,
   "id": "d8f4dfe8-5c0c-4ef8-b0d2-f8738571d5ba",
   "metadata": {},
   "outputs": [],
   "source": [
    "client = OpenAI(\n",
    "    # This is the default and can be omitted\n",
    "    api_key=all_cred[\"RAG_OPENAI_KEY\"]\n",
    ") "
   ]
  },
  {
   "cell_type": "code",
   "execution_count": 4,
   "id": "ad3c986e-3168-4706-a6c6-e6d42d49dcc2",
   "metadata": {},
   "outputs": [],
   "source": [
    "# Function that would take prompt and return the response for a particular role\n",
    "# Here it is taking only a single role i.e. user here\n",
    "def get_completion(prompt, model=\"gpt-3.5-turbo\"):\n",
    "    messages = [{\"role\": \"user\", \"content\": prompt}]\n",
    "    response = client.chat.completions.create(\n",
    "        model=model,\n",
    "        messages=messages,\n",
    "        temperature=0, # this is the degree of randomness of the model's output\n",
    "    )\n",
    "    return response.choices[0].message.content"
   ]
  },
  {
   "cell_type": "code",
   "execution_count": 5,
   "id": "60991285-1ca9-45df-b064-6fba9da55567",
   "metadata": {},
   "outputs": [
    {
     "data": {
      "text/plain": [
       "'I am an AI assistant and I do not have the ability to know the current date. Please check your calendar or device for the current date.'"
      ]
     },
     "execution_count": 5,
     "metadata": {},
     "output_type": "execute_result"
    }
   ],
   "source": [
    "get_completion(prompt=\"What is the day today?\", model=\"gpt-3.5-turbo\")"
   ]
  },
  {
   "cell_type": "markdown",
   "id": "20ad0246-1fd9-4c59-a8ed-607d8749fc6d",
   "metadata": {},
   "source": [
    "<b style=\"color:red; font-size:1.5em\"> Here for every prompt going into the message we are getting only one response. But for the chatbot, we need to make it recursive so that multiple roles can be passed recursively as can be seen in  <b style=\"color:green\"> point-6 </b> inside <b style=\"color:green\">ProgrammingEngineering.md</b> file</b>"
   ]
  },
  {
   "cell_type": "markdown",
   "id": "c77cd6b5-77b7-4233-ab8d-4f0a72e7a8af",
   "metadata": {},
   "source": [
    "# Creating a function so that multiple messages from different roles can be passed"
   ]
  },
  {
   "cell_type": "code",
   "execution_count": 6,
   "id": "68498b5f-3f98-49e5-adac-83d4d14fe680",
   "metadata": {},
   "outputs": [],
   "source": [
    "# The function is kind of similar to the one defined before. It's just instead of a single message we are passing multiple here\n",
    "# In the above function we were passing prompt as the parameter, but here we are passing messages as the parameter since we have to \n",
    "# pass content related to multiple roles\n",
    "def get_completion_from_messages(messages, model=\"gpt-3.5-turbo\"):\n",
    "    response = client.chat.completions.create(\n",
    "        model=model,\n",
    "        messages=messages,\n",
    "        temperature=0, # this is the degree of randomness of the model's output\n",
    "    )\n",
    "    return response.choices[0].message"
   ]
  },
  {
   "cell_type": "code",
   "execution_count": 7,
   "id": "23633de6-baa7-4fed-b171-a8cc3ad7456e",
   "metadata": {},
   "outputs": [],
   "source": [
    "# Multiple messages are as follows:\n",
    "messages =  [  \n",
    "{'role':'system', 'content':'You are an assistant that speaks like Shakespeare.'},    \n",
    "{'role':'user', 'content':'tell me a joke'},   \n",
    "{'role':'assistant', 'content':'Why did the chicken cross the road'},   \n",
    "{'role':'user', 'content':'I don\\'t know'}  \n",
    "]"
   ]
  },
  {
   "cell_type": "code",
   "execution_count": 8,
   "id": "db6e66ca-1452-466e-b323-1ea7324ebe67",
   "metadata": {},
   "outputs": [],
   "source": [
    "response = get_completion_from_messages(messages)"
   ]
  },
  {
   "cell_type": "code",
   "execution_count": 9,
   "id": "26798e68-34c2-40dc-9a40-29b821aaafdf",
   "metadata": {},
   "outputs": [
    {
     "data": {
      "text/plain": [
       "ChatCompletionMessage(content='To get to the other side, good sir!', refusal=None, role='assistant', function_call=None, tool_calls=None)"
      ]
     },
     "execution_count": 9,
     "metadata": {},
     "output_type": "execute_result"
    }
   ],
   "source": [
    "response"
   ]
  },
  {
   "cell_type": "markdown",
   "id": "219a3e5e-1914-43d7-990c-65977e222eed",
   "metadata": {},
   "source": [
    " As we can see from above cell, the output has come from <b>assistant</b>"
   ]
  },
  {
   "cell_type": "code",
   "execution_count": 10,
   "id": "bb54d7fb-d8d0-4e3d-afc4-adf66984987d",
   "metadata": {},
   "outputs": [
    {
     "data": {
      "text/plain": [
       "('assistant', 'To get to the other side, good sir!')"
      ]
     },
     "execution_count": 10,
     "metadata": {},
     "output_type": "execute_result"
    }
   ],
   "source": [
    "response.role, response.content"
   ]
  },
  {
   "cell_type": "markdown",
   "id": "7ea2f871-cc97-47ff-9fd4-466932fd7f55",
   "metadata": {},
   "source": [
    "# Let's see if model remembers our information"
   ]
  },
  {
   "cell_type": "code",
   "execution_count": 11,
   "id": "1c3d8688-ae71-4893-9a54-35e1154f18b5",
   "metadata": {},
   "outputs": [
    {
     "name": "stdout",
     "output_type": "stream",
     "text": [
      "assistant \n",
      " Hello Vaibhav! It's nice to meet you. How are you doing today?\n"
     ]
    }
   ],
   "source": [
    "messages =  [  \n",
    "{'role':'system', 'content':'You are a friendly chatbot and will interact with users from different backgrounds.'},    \n",
    "{'role':'user', 'content':'Hi, my name is Vaibhav'}  ]\n",
    "\n",
    "response = get_completion_from_messages(messages)\n",
    "print(response.role, \"\\n\" ,response.content)"
   ]
  },
  {
   "cell_type": "code",
   "execution_count": 12,
   "id": "5da69151-4535-4e0a-87e1-3610d4738db3",
   "metadata": {},
   "outputs": [
    {
     "name": "stdout",
     "output_type": "stream",
     "text": [
      "assistant \n",
      " I'm sorry, but I don't have access to personal information about users. You can tell me your name if you'd like!\n"
     ]
    }
   ],
   "source": [
    "messages =  [  \n",
    "{'role':'system', 'content':'You are a friendly chatbot and will interact with users from different backgrounds.'},    \n",
    "{'role':'user', 'content':'Yes,  can you remind me, What is my name?'}  ]\n",
    "\n",
    "response = get_completion_from_messages(messages)\n",
    "print(response.role, \"\\n\" ,response.content)"
   ]
  },
  {
   "cell_type": "markdown",
   "id": "05b4ac51-e4e6-4c36-ba03-732d2ee0d252",
   "metadata": {},
   "source": [
    "<b style=\"color:red; font-size:1.5em\"> From the above two cells, it can be seen that model doesn't remember our past conversation, So, we have to deal with it!!   </b>"
   ]
  },
  {
   "cell_type": "markdown",
   "id": "e50423bd-e95d-4e01-925b-097b6d202d9a",
   "metadata": {},
   "source": [
    "<b style=\"color:green; font-size:1.5em\"> SOLUTION: So, if we want our model to remember the earlier conversation, we need to pass it as an input to the model as can be seen below.</b>"
   ]
  },
  {
   "cell_type": "code",
   "execution_count": 13,
   "id": "6a7aa213-b6f6-4b9a-996e-a52fb20e05ce",
   "metadata": {},
   "outputs": [
    {
     "name": "stdout",
     "output_type": "stream",
     "text": [
      "assistant \n",
      " Your name is Vaibhav.\n"
     ]
    }
   ],
   "source": [
    "messages =  [  \n",
    "{'role':'system', 'content':'You are a friendly chatbot and will interact with users from different backgrounds.'},\n",
    "{'role':'user', 'content':'Hi, my name is Vaibhav'},\n",
    "{'role':'assistant', 'content': \"Hi Isa! It's nice to meet you. \\\n",
    "Is there anything I can help you with today?\"},\n",
    "{'role':'user', 'content':'Yes, you can remind me, What is my name?'}  ]\n",
    "\n",
    "response = get_completion_from_messages(messages)\n",
    "print(response.role, \"\\n\" ,response.content)"
   ]
  },
  {
   "cell_type": "markdown",
   "id": "3e289e26-b35e-4103-91bb-eefd32e91ebe",
   "metadata": {},
   "source": [
    "<b> So, as can be seen from the above cell when passing the earlier conversation, the model is easily able to provide the response.  </b>"
   ]
  },
  {
   "cell_type": "code",
   "execution_count": null,
   "id": "df417b5c-a6da-47fd-9f24-79bc480cb3d0",
   "metadata": {},
   "outputs": [],
   "source": []
  },
  {
   "cell_type": "markdown",
   "id": "176fe312-762e-490b-9899-964816ee477f",
   "metadata": {},
   "source": [
    "# Let's build the chatbot having UI based for the user such that all past conversation will keep on appending in the list so that we don't manually have to append"
   ]
  },
  {
   "cell_type": "code",
   "execution_count": 14,
   "id": "91d3d2e0-23f8-4fc1-a21e-c52fd880e829",
   "metadata": {},
   "outputs": [],
   "source": [
    "def collect_messages(inp):\n",
    "    # User giving query\n",
    "    prompt = inp\n",
    "    \n",
    "    # Appending the user's query in the context list which stores all the past conversation\n",
    "    context.append({'role':'user', 'content':f\"{prompt}\"})\n",
    "    # Getting response of the query asked by the user\n",
    "    response = get_completion_from_messages(context).content \n",
    "    # Appending the Agent's response in the context list which stores all the past conversation\n",
    "    context.append({'role':'assistant', 'content':f\"{response}\"})\n",
    "\n",
    "    # Printing the response for the user's query\n",
    "    print(response)\n"
   ]
  },
  {
   "cell_type": "code",
   "execution_count": 15,
   "id": "a56ad8c0-ba49-4154-a97a-68d553c90503",
   "metadata": {},
   "outputs": [
    {
     "name": "stdin",
     "output_type": "stream",
     "text": [
      "Enter the query user!! Hi! This is Vaibhav, and I am here to know about the popular places in London?\n"
     ]
    },
    {
     "name": "stdout",
     "output_type": "stream",
     "text": [
      "Hello Vaibhav! I'd be happy to help you discover popular places in London. London is a vibrant city with a rich history and plenty of attractions to explore. Some popular places to visit in London include:\n",
      "\n",
      "1. The British Museum: Home to a vast collection of art and artifacts from around the world.\n",
      "2. The Tower of London: A historic castle on the River Thames with a fascinating past.\n",
      "3. Buckingham Palace: The official residence of the British monarch and a must-see for visitors.\n",
      "4. The London Eye: A giant observation wheel offering stunning views of the city skyline.\n",
      "5. Covent Garden: A lively area with shops, restaurants, and street performers.\n",
      "6. The West End: London's famous theater district, known for its world-class shows.\n",
      "7. Hyde Park: A beautiful green space in the heart of the city, perfect for a relaxing stroll.\n",
      "8. The Shard: An iconic skyscraper with an observation deck offering panoramic views of London.\n",
      "\n",
      "These are just a few of the many amazing places to explore in London. Let me know if you'd like more recommendations or information about any specific attractions!\n"
     ]
    },
    {
     "name": "stdin",
     "output_type": "stream",
     "text": [
      "Enter the query user!! Which one should I go first?\n"
     ]
    },
    {
     "name": "stdout",
     "output_type": "stream",
     "text": [
      "If you're looking to start your London adventure with a must-see attraction, I would recommend visiting Buckingham Palace first. It's an iconic symbol of the British monarchy and a popular tourist destination. You can witness the Changing of the Guard ceremony, explore the beautiful gardens, and take in the grandeur of the palace from the outside.\n",
      "\n",
      "After visiting Buckingham Palace, you can explore nearby attractions such as St. James's Park, The Mall, and Westminster Abbey. This area is rich in history and offers a great introduction to London's royal heritage.\n",
      "\n",
      "Of course, the choice of where to go first ultimately depends on your interests and preferences. If you have a particular attraction in mind that you're excited about, feel free to prioritize that one. Enjoy your time exploring London!\n"
     ]
    },
    {
     "name": "stdin",
     "output_type": "stream",
     "text": [
      "Enter the query user!! I am with my friend Louis and Ryan\n"
     ]
    },
    {
     "name": "stdout",
     "output_type": "stream",
     "text": [
      "That's great to hear that you're exploring London with your friends Louis and Ryan! Traveling with friends can make the experience even more enjoyable. You can create lasting memories together and share the excitement of discovering new places.\n",
      "\n",
      "If you're looking for activities to do with your friends in London, you might consider:\n",
      "\n",
      "1. Taking a walking tour of the city to see the major landmarks and learn about London's history.\n",
      "2. Enjoying a traditional afternoon tea at a cozy cafe or elegant hotel.\n",
      "3. Exploring the vibrant neighborhoods of Shoreditch or Camden for street art, shopping, and unique dining experiences.\n",
      "4. Visiting a pub for a pint of British ale and some classic pub grub.\n",
      "5. Checking out a live music performance in one of London's many music venues.\n",
      "6. Taking a boat ride on the River Thames to see the city from a different perspective.\n",
      "\n",
      "No matter what you choose to do, I'm sure you'll have a fantastic time exploring London with your friends. If you need any more recommendations or tips, feel free to ask!\n"
     ]
    },
    {
     "name": "stdin",
     "output_type": "stream",
     "text": [
      "Enter the query user!! Do you who i am and who are with me?\n"
     ]
    },
    {
     "name": "stdout",
     "output_type": "stream",
     "text": [
      "As an AI chatbot, I don't have the ability to know personal information about users unless it has been shared with me during our conversation. I am here to provide information, assistance, and engage in friendly conversation with you. If there's anything specific you'd like to know or talk about, feel free to share, and I'll do my best to help!\n"
     ]
    },
    {
     "name": "stdin",
     "output_type": "stream",
     "text": [
      "Enter the query user!! Do you know my name?\n"
     ]
    },
    {
     "name": "stdout",
     "output_type": "stream",
     "text": [
      "Yes, you mentioned earlier that your name is Vaibhav. How can I assist you further, Vaibhav?\n"
     ]
    },
    {
     "name": "stdin",
     "output_type": "stream",
     "text": [
      "Enter the query user!! exit\n"
     ]
    },
    {
     "name": "stdout",
     "output_type": "stream",
     "text": [
      "If you have any more questions in the future, feel free to come back. Have a great day, Vaibhav! Goodbye!\n"
     ]
    }
   ],
   "source": [
    "# Telling what the system is, so that it tells the agent to reply accordingly\n",
    "context = [ {'role':'system', 'content':'You are a friendly chatbot and will interact with users from different backgrounds.'} ]  # accumulate messages\n",
    "\n",
    "inp = ''\n",
    "\n",
    "# Looping until user enters to exit\n",
    "while inp != \"exit\":\n",
    "    inp = input(\"Enter the query user!!\")\n",
    "    collect_messages(inp)\n",
    "    "
   ]
  },
  {
   "cell_type": "code",
   "execution_count": null,
   "id": "28c8abc2-203f-498c-940c-8482c8a530d2",
   "metadata": {},
   "outputs": [],
   "source": []
  }
 ],
 "metadata": {
  "kernelspec": {
   "display_name": "Python 3 (ipykernel)",
   "language": "python",
   "name": "python3"
  },
  "language_info": {
   "codemirror_mode": {
    "name": "ipython",
    "version": 3
   },
   "file_extension": ".py",
   "mimetype": "text/x-python",
   "name": "python",
   "nbconvert_exporter": "python",
   "pygments_lexer": "ipython3",
   "version": "3.10.13"
  }
 },
 "nbformat": 4,
 "nbformat_minor": 5
}
