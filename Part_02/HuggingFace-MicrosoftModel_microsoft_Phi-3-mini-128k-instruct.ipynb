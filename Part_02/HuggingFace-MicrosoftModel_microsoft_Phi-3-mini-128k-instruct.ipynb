{
 "cells": [
  {
   "cell_type": "code",
   "execution_count": 1,
   "id": "5eacb201",
   "metadata": {
    "execution": {
     "iopub.execute_input": "2024-09-14T15:23:34.876519Z",
     "iopub.status.busy": "2024-09-14T15:23:34.876135Z",
     "iopub.status.idle": "2024-09-14T15:23:35.605416Z",
     "shell.execute_reply": "2024-09-14T15:23:35.604591Z",
     "shell.execute_reply.started": "2024-09-14T15:23:34.876494Z"
    },
    "tags": []
   },
   "outputs": [
    {
     "name": "stdout",
     "output_type": "stream",
     "text": [
      "Sat Sep 14 23:12:08 2024       \n",
      "+---------------------------------------------------------------------------------------+\n",
      "| NVIDIA-SMI 535.183.06             Driver Version: 535.183.06   CUDA Version: 12.2     |\n",
      "|-----------------------------------------+----------------------+----------------------+\n",
      "| GPU  Name                 Persistence-M | Bus-Id        Disp.A | Volatile Uncorr. ECC |\n",
      "| Fan  Temp   Perf          Pwr:Usage/Cap |         Memory-Usage | GPU-Util  Compute M. |\n",
      "|                                         |                      |               MIG M. |\n",
      "|=========================================+======================+======================|\n",
      "|   0  Tesla T4                       On  | 00000000:00:1E.0 Off |                    0 |\n",
      "| N/A   45C    P0              34W /  70W |      0MiB / 15360MiB |      0%      Default |\n",
      "|                                         |                      |                  N/A |\n",
      "+-----------------------------------------+----------------------+----------------------+\n",
      "                                                                                         \n",
      "+---------------------------------------------------------------------------------------+\n",
      "| Processes:                                                                            |\n",
      "|  GPU   GI   CI        PID   Type   Process name                            GPU Memory |\n",
      "|        ID   ID                                                             Usage      |\n",
      "|=======================================================================================|\n",
      "|  No running processes found                                                           |\n",
      "+---------------------------------------------------------------------------------------+\n"
     ]
    }
   ],
   "source": [
    "!nvidia-smi"
   ]
  },
  {
   "cell_type": "code",
   "execution_count": 2,
   "id": "c3587b03-4439-4dd1-bc9a-caad0bc940b0",
   "metadata": {
    "execution": {
     "iopub.execute_input": "2024-09-14T15:38:28.560251Z",
     "iopub.status.busy": "2024-09-14T15:38:28.559882Z",
     "iopub.status.idle": "2024-09-14T15:38:28.563832Z",
     "shell.execute_reply": "2024-09-14T15:38:28.562987Z",
     "shell.execute_reply.started": "2024-09-14T15:38:28.560222Z"
    },
    "tags": []
   },
   "outputs": [],
   "source": [
    "import os"
   ]
  },
  {
   "cell_type": "code",
   "execution_count": 3,
   "id": "398aba8e-8ce5-4a75-9978-6153ceca60f0",
   "metadata": {
    "execution": {
     "iopub.execute_input": "2024-09-14T15:29:32.154835Z",
     "iopub.status.busy": "2024-09-14T15:29:32.154453Z",
     "iopub.status.idle": "2024-09-14T15:29:32.762711Z",
     "shell.execute_reply": "2024-09-14T15:29:32.762042Z",
     "shell.execute_reply.started": "2024-09-14T15:29:32.154797Z"
    },
    "tags": []
   },
   "outputs": [
    {
     "name": "stdout",
     "output_type": "stream",
     "text": [
      "Filesystem      Size  Used Avail Use% Mounted on\r\n",
      "overlay         100G   43G   58G  43% /\r\n",
      "tmpfs            64M     0   64M   0% /dev\r\n",
      "tmpfs           7.7G     0  7.7G   0% /sys/fs/cgroup\r\n",
      "/dev/nvme0n1p1  100G   43G   58G  43% /run\r\n",
      "tmpfs            14G     0   14G   0% /dev/shm\r\n",
      "/dev/nvme2n1    2.0G  1.9G     0 100% /home/jovyan\r\n",
      "tmpfs            14G  120K   14G   1% /home/jovyan/.saturn\r\n",
      "tmpfs            14G   12K   14G   1% /run/secrets/kubernetes.io/serviceaccount\r\n",
      "tmpfs           7.7G   12K  7.7G   1% /proc/driver/nvidia\r\n",
      "tmpfs           7.7G  3.0M  7.7G   1% /run/nvidia-persistenced/socket\r\n",
      "tmpfs           7.7G     0  7.7G   0% /proc/acpi\r\n",
      "tmpfs           7.7G     0  7.7G   0% /sys/firmware\r\n"
     ]
    }
   ],
   "source": [
    "# Space I have \n",
    "!df -h"
   ]
  },
  {
   "cell_type": "code",
   "execution_count": 1,
   "id": "1c9aae0a-d8ab-445e-bfe1-e4e0587396c8",
   "metadata": {
    "execution": {
     "iopub.execute_input": "2024-09-14T16:10:04.558518Z",
     "iopub.status.busy": "2024-09-14T16:10:04.558149Z",
     "iopub.status.idle": "2024-09-14T16:10:04.565025Z",
     "shell.execute_reply": "2024-09-14T16:10:04.564245Z",
     "shell.execute_reply.started": "2024-09-14T16:10:04.558493Z"
    },
    "scrolled": true,
    "tags": []
   },
   "outputs": [],
   "source": [
    "# Checking all the environment variables available\n",
    "#os.environ"
   ]
  },
  {
   "cell_type": "code",
   "execution_count": 5,
   "id": "af23b184-a6f0-4304-ae2a-60ddd8028b28",
   "metadata": {
    "execution": {
     "iopub.execute_input": "2024-09-14T16:13:14.825052Z",
     "iopub.status.busy": "2024-09-14T16:13:14.824668Z",
     "iopub.status.idle": "2024-09-14T16:13:14.828486Z",
     "shell.execute_reply": "2024-09-14T16:13:14.827834Z",
     "shell.execute_reply.started": "2024-09-14T16:13:14.825027Z"
    },
    "tags": []
   },
   "outputs": [],
   "source": [
    "# As hugging face stores the file inside the cache folder inside HOME directory which in our case doesn't have mmuch storage, so changing the default storage of Hugging Face\n",
    "# HF_HOME is the variable which contains the location to store the Hugging Face data\n",
    "# MAKE SURE TO RESTART THE KERNEL AFTER THIS\n",
    "os.environ['HF_HOME'] = '/run/cache/'"
   ]
  },
  {
   "cell_type": "code",
   "execution_count": 6,
   "id": "aaa8c8e1",
   "metadata": {},
   "outputs": [
    {
     "data": {
      "text/plain": [
       "'/run/cache/'"
      ]
     },
     "execution_count": 6,
     "metadata": {},
     "output_type": "execute_result"
    }
   ],
   "source": [
    "os.environ['HF_HOME']"
   ]
  },
  {
   "cell_type": "markdown",
   "id": "25dcfff1-2b2d-41b1-809d-51e6e10f85e3",
   "metadata": {},
   "source": [
    "# Copied from Hugging Face <a href=\"https://huggingface.co/microsoft/Phi-3-mini-128k-instruct\"> Webage of the model</a> "
   ]
  },
  {
   "cell_type": "markdown",
   "id": "c6fea51c",
   "metadata": {},
   "source": [
    "## <span style=\"color:red\"> Requirements as mentioned in the documentation"
   ]
  },
  {
   "cell_type": "code",
   "execution_count": 7,
   "id": "e17114fb",
   "metadata": {},
   "outputs": [
    {
     "name": "stdout",
     "output_type": "stream",
     "text": [
      "Found existing installation: transformers 4.45.0.dev0\n",
      "Uninstalling transformers-4.45.0.dev0:\n",
      "  Successfully uninstalled transformers-4.45.0.dev0\n",
      "Collecting git+https://github.com/huggingface/transformers\n",
      "  Cloning https://github.com/huggingface/transformers to /tmp/pip-req-build-vy40zmi6\n",
      "  Running command git clone --filter=blob:none --quiet https://github.com/huggingface/transformers /tmp/pip-req-build-vy40zmi6\n",
      "  Resolved https://github.com/huggingface/transformers to commit 8bd2b1e8c23234cd607ca8d63f53c1edfea27462\n",
      "  Installing build dependencies ... \u001b[?25ldone\n",
      "\u001b[?25h  Getting requirements to build wheel ... \u001b[?25ldone\n",
      "\u001b[?25h  Preparing metadata (pyproject.toml) ... \u001b[?25ldone\n",
      "\u001b[?25hRequirement already satisfied: filelock in /opt/saturncloud/envs/saturn/lib/python3.9/site-packages (from transformers==4.45.0.dev0) (3.12.2)\n",
      "Requirement already satisfied: huggingface-hub<1.0,>=0.23.2 in /opt/saturncloud/envs/saturn/lib/python3.9/site-packages (from transformers==4.45.0.dev0) (0.24.7)\n",
      "Requirement already satisfied: numpy>=1.17 in /opt/saturncloud/envs/saturn/lib/python3.9/site-packages (from transformers==4.45.0.dev0) (1.24.4)\n",
      "Requirement already satisfied: packaging>=20.0 in /opt/saturncloud/envs/saturn/lib/python3.9/site-packages (from transformers==4.45.0.dev0) (23.1)\n",
      "Requirement already satisfied: pyyaml>=5.1 in /opt/saturncloud/envs/saturn/lib/python3.9/site-packages (from transformers==4.45.0.dev0) (6.0.1)\n",
      "Requirement already satisfied: regex!=2019.12.17 in /opt/saturncloud/envs/saturn/lib/python3.9/site-packages (from transformers==4.45.0.dev0) (2023.6.3)\n",
      "Requirement already satisfied: requests in /opt/saturncloud/envs/saturn/lib/python3.9/site-packages (from transformers==4.45.0.dev0) (2.31.0)\n",
      "Requirement already satisfied: tokenizers<0.20,>=0.19 in /opt/saturncloud/envs/saturn/lib/python3.9/site-packages (from transformers==4.45.0.dev0) (0.19.1)\n",
      "Requirement already satisfied: safetensors>=0.4.1 in /opt/saturncloud/envs/saturn/lib/python3.9/site-packages (from transformers==4.45.0.dev0) (0.4.5)\n",
      "Requirement already satisfied: tqdm>=4.27 in /opt/saturncloud/envs/saturn/lib/python3.9/site-packages (from transformers==4.45.0.dev0) (4.65.0)\n",
      "Requirement already satisfied: fsspec>=2023.5.0 in /opt/saturncloud/envs/saturn/lib/python3.9/site-packages (from huggingface-hub<1.0,>=0.23.2->transformers==4.45.0.dev0) (2023.6.0)\n",
      "Requirement already satisfied: typing-extensions>=3.7.4.3 in /opt/saturncloud/envs/saturn/lib/python3.9/site-packages (from huggingface-hub<1.0,>=0.23.2->transformers==4.45.0.dev0) (4.12.2)\n",
      "Requirement already satisfied: charset-normalizer<4,>=2 in /opt/saturncloud/envs/saturn/lib/python3.9/site-packages (from requests->transformers==4.45.0.dev0) (3.2.0)\n",
      "Requirement already satisfied: idna<4,>=2.5 in /opt/saturncloud/envs/saturn/lib/python3.9/site-packages (from requests->transformers==4.45.0.dev0) (3.4)\n",
      "Requirement already satisfied: urllib3<3,>=1.21.1 in /opt/saturncloud/envs/saturn/lib/python3.9/site-packages (from requests->transformers==4.45.0.dev0) (2.0.4)\n",
      "Requirement already satisfied: certifi>=2017.4.17 in /opt/saturncloud/envs/saturn/lib/python3.9/site-packages (from requests->transformers==4.45.0.dev0) (2023.7.22)\n",
      "Building wheels for collected packages: transformers\n",
      "  Building wheel for transformers (pyproject.toml) ... \u001b[?25ldone\n",
      "\u001b[?25h  Created wheel for transformers: filename=transformers-4.45.0.dev0-py3-none-any.whl size=9732484 sha256=c2c07201797458bc2bfe3a74d811e0dc0eda898deee353bb182237c3f30eb522\n",
      "  Stored in directory: /tmp/pip-ephem-wheel-cache-7fuux0ac/wheels/14/a0/7b/8f6b25ba4110aa215fcb8d6aedd6cd4f9b9b6619190999ac2b\n",
      "Successfully built transformers\n",
      "Installing collected packages: transformers\n",
      "Successfully installed transformers-4.45.0.dev0\n",
      "Requirement already satisfied: flash_attn==2.5.8 in /opt/saturncloud/envs/saturn/lib/python3.9/site-packages (2.5.8)\n",
      "Requirement already satisfied: torch in /opt/saturncloud/envs/saturn/lib/python3.9/site-packages (from flash_attn==2.5.8) (2.3.1)\n",
      "Requirement already satisfied: einops in /opt/saturncloud/envs/saturn/lib/python3.9/site-packages (from flash_attn==2.5.8) (0.6.1)\n",
      "Requirement already satisfied: packaging in /opt/saturncloud/envs/saturn/lib/python3.9/site-packages (from flash_attn==2.5.8) (23.1)\n",
      "Requirement already satisfied: ninja in /opt/saturncloud/envs/saturn/lib/python3.9/site-packages (from flash_attn==2.5.8) (1.11.1)\n",
      "Requirement already satisfied: filelock in /opt/saturncloud/envs/saturn/lib/python3.9/site-packages (from torch->flash_attn==2.5.8) (3.12.2)\n",
      "Requirement already satisfied: typing-extensions>=4.8.0 in /opt/saturncloud/envs/saturn/lib/python3.9/site-packages (from torch->flash_attn==2.5.8) (4.12.2)\n",
      "Requirement already satisfied: sympy in /opt/saturncloud/envs/saturn/lib/python3.9/site-packages (from torch->flash_attn==2.5.8) (1.12)\n",
      "Requirement already satisfied: networkx in /opt/saturncloud/envs/saturn/lib/python3.9/site-packages (from torch->flash_attn==2.5.8) (3.1)\n",
      "Requirement already satisfied: jinja2 in /opt/saturncloud/envs/saturn/lib/python3.9/site-packages (from torch->flash_attn==2.5.8) (3.1.2)\n",
      "Requirement already satisfied: fsspec in /opt/saturncloud/envs/saturn/lib/python3.9/site-packages (from torch->flash_attn==2.5.8) (2023.6.0)\n",
      "Requirement already satisfied: nvidia-cuda-nvrtc-cu12==12.1.105 in /opt/saturncloud/envs/saturn/lib/python3.9/site-packages (from torch->flash_attn==2.5.8) (12.1.105)\n",
      "Requirement already satisfied: nvidia-cuda-runtime-cu12==12.1.105 in /opt/saturncloud/envs/saturn/lib/python3.9/site-packages (from torch->flash_attn==2.5.8) (12.1.105)\n",
      "Requirement already satisfied: nvidia-cuda-cupti-cu12==12.1.105 in /opt/saturncloud/envs/saturn/lib/python3.9/site-packages (from torch->flash_attn==2.5.8) (12.1.105)\n",
      "Requirement already satisfied: nvidia-cudnn-cu12==8.9.2.26 in /opt/saturncloud/envs/saturn/lib/python3.9/site-packages (from torch->flash_attn==2.5.8) (8.9.2.26)\n",
      "Requirement already satisfied: nvidia-cublas-cu12==12.1.3.1 in /opt/saturncloud/envs/saturn/lib/python3.9/site-packages (from torch->flash_attn==2.5.8) (12.1.3.1)\n",
      "Requirement already satisfied: nvidia-cufft-cu12==11.0.2.54 in /opt/saturncloud/envs/saturn/lib/python3.9/site-packages (from torch->flash_attn==2.5.8) (11.0.2.54)\n",
      "Requirement already satisfied: nvidia-curand-cu12==10.3.2.106 in /opt/saturncloud/envs/saturn/lib/python3.9/site-packages (from torch->flash_attn==2.5.8) (10.3.2.106)\n",
      "Requirement already satisfied: nvidia-cusolver-cu12==11.4.5.107 in /opt/saturncloud/envs/saturn/lib/python3.9/site-packages (from torch->flash_attn==2.5.8) (11.4.5.107)\n",
      "Requirement already satisfied: nvidia-cusparse-cu12==12.1.0.106 in /opt/saturncloud/envs/saturn/lib/python3.9/site-packages (from torch->flash_attn==2.5.8) (12.1.0.106)\n",
      "Requirement already satisfied: nvidia-nccl-cu12==2.20.5 in /opt/saturncloud/envs/saturn/lib/python3.9/site-packages (from torch->flash_attn==2.5.8) (2.20.5)\n",
      "Requirement already satisfied: nvidia-nvtx-cu12==12.1.105 in /opt/saturncloud/envs/saturn/lib/python3.9/site-packages (from torch->flash_attn==2.5.8) (12.1.105)\n",
      "Requirement already satisfied: triton==2.3.1 in /opt/saturncloud/envs/saturn/lib/python3.9/site-packages (from torch->flash_attn==2.5.8) (2.3.1)\n",
      "Requirement already satisfied: nvidia-nvjitlink-cu12 in /opt/saturncloud/envs/saturn/lib/python3.9/site-packages (from nvidia-cusolver-cu12==11.4.5.107->torch->flash_attn==2.5.8) (12.6.68)\n",
      "Requirement already satisfied: MarkupSafe>=2.0 in /opt/saturncloud/envs/saturn/lib/python3.9/site-packages (from jinja2->torch->flash_attn==2.5.8) (2.1.3)\n",
      "Requirement already satisfied: mpmath>=0.19 in /opt/saturncloud/envs/saturn/lib/python3.9/site-packages (from sympy->torch->flash_attn==2.5.8) (1.3.0)\n",
      "Requirement already satisfied: torch==2.3.1 in /opt/saturncloud/envs/saturn/lib/python3.9/site-packages (2.3.1)\n",
      "Requirement already satisfied: filelock in /opt/saturncloud/envs/saturn/lib/python3.9/site-packages (from torch==2.3.1) (3.12.2)\n",
      "Requirement already satisfied: typing-extensions>=4.8.0 in /opt/saturncloud/envs/saturn/lib/python3.9/site-packages (from torch==2.3.1) (4.12.2)\n",
      "Requirement already satisfied: sympy in /opt/saturncloud/envs/saturn/lib/python3.9/site-packages (from torch==2.3.1) (1.12)\n",
      "Requirement already satisfied: networkx in /opt/saturncloud/envs/saturn/lib/python3.9/site-packages (from torch==2.3.1) (3.1)\n",
      "Requirement already satisfied: jinja2 in /opt/saturncloud/envs/saturn/lib/python3.9/site-packages (from torch==2.3.1) (3.1.2)\n",
      "Requirement already satisfied: fsspec in /opt/saturncloud/envs/saturn/lib/python3.9/site-packages (from torch==2.3.1) (2023.6.0)\n",
      "Requirement already satisfied: nvidia-cuda-nvrtc-cu12==12.1.105 in /opt/saturncloud/envs/saturn/lib/python3.9/site-packages (from torch==2.3.1) (12.1.105)\n",
      "Requirement already satisfied: nvidia-cuda-runtime-cu12==12.1.105 in /opt/saturncloud/envs/saturn/lib/python3.9/site-packages (from torch==2.3.1) (12.1.105)\n",
      "Requirement already satisfied: nvidia-cuda-cupti-cu12==12.1.105 in /opt/saturncloud/envs/saturn/lib/python3.9/site-packages (from torch==2.3.1) (12.1.105)\n",
      "Requirement already satisfied: nvidia-cudnn-cu12==8.9.2.26 in /opt/saturncloud/envs/saturn/lib/python3.9/site-packages (from torch==2.3.1) (8.9.2.26)\n",
      "Requirement already satisfied: nvidia-cublas-cu12==12.1.3.1 in /opt/saturncloud/envs/saturn/lib/python3.9/site-packages (from torch==2.3.1) (12.1.3.1)\n",
      "Requirement already satisfied: nvidia-cufft-cu12==11.0.2.54 in /opt/saturncloud/envs/saturn/lib/python3.9/site-packages (from torch==2.3.1) (11.0.2.54)\n",
      "Requirement already satisfied: nvidia-curand-cu12==10.3.2.106 in /opt/saturncloud/envs/saturn/lib/python3.9/site-packages (from torch==2.3.1) (10.3.2.106)\n",
      "Requirement already satisfied: nvidia-cusolver-cu12==11.4.5.107 in /opt/saturncloud/envs/saturn/lib/python3.9/site-packages (from torch==2.3.1) (11.4.5.107)\n",
      "Requirement already satisfied: nvidia-cusparse-cu12==12.1.0.106 in /opt/saturncloud/envs/saturn/lib/python3.9/site-packages (from torch==2.3.1) (12.1.0.106)\n",
      "Requirement already satisfied: nvidia-nccl-cu12==2.20.5 in /opt/saturncloud/envs/saturn/lib/python3.9/site-packages (from torch==2.3.1) (2.20.5)\n",
      "Requirement already satisfied: nvidia-nvtx-cu12==12.1.105 in /opt/saturncloud/envs/saturn/lib/python3.9/site-packages (from torch==2.3.1) (12.1.105)\n",
      "Requirement already satisfied: triton==2.3.1 in /opt/saturncloud/envs/saturn/lib/python3.9/site-packages (from torch==2.3.1) (2.3.1)\n"
     ]
    },
    {
     "name": "stdout",
     "output_type": "stream",
     "text": [
      "Requirement already satisfied: nvidia-nvjitlink-cu12 in /opt/saturncloud/envs/saturn/lib/python3.9/site-packages (from nvidia-cusolver-cu12==11.4.5.107->torch==2.3.1) (12.6.68)\n",
      "Requirement already satisfied: MarkupSafe>=2.0 in /opt/saturncloud/envs/saturn/lib/python3.9/site-packages (from jinja2->torch==2.3.1) (2.1.3)\n",
      "Requirement already satisfied: mpmath>=0.19 in /opt/saturncloud/envs/saturn/lib/python3.9/site-packages (from sympy->torch==2.3.1) (1.3.0)\n",
      "Requirement already satisfied: accelerate==0.31.0 in /opt/saturncloud/envs/saturn/lib/python3.9/site-packages (0.31.0)\n",
      "Requirement already satisfied: numpy>=1.17 in /opt/saturncloud/envs/saturn/lib/python3.9/site-packages (from accelerate==0.31.0) (1.24.4)\n",
      "Requirement already satisfied: packaging>=20.0 in /opt/saturncloud/envs/saturn/lib/python3.9/site-packages (from accelerate==0.31.0) (23.1)\n",
      "Requirement already satisfied: psutil in /opt/saturncloud/envs/saturn/lib/python3.9/site-packages (from accelerate==0.31.0) (5.9.5)\n",
      "Requirement already satisfied: pyyaml in /opt/saturncloud/envs/saturn/lib/python3.9/site-packages (from accelerate==0.31.0) (6.0.1)\n",
      "Requirement already satisfied: torch>=1.10.0 in /opt/saturncloud/envs/saturn/lib/python3.9/site-packages (from accelerate==0.31.0) (2.3.1)\n",
      "Requirement already satisfied: huggingface-hub in /opt/saturncloud/envs/saturn/lib/python3.9/site-packages (from accelerate==0.31.0) (0.24.7)\n",
      "Requirement already satisfied: safetensors>=0.3.1 in /opt/saturncloud/envs/saturn/lib/python3.9/site-packages (from accelerate==0.31.0) (0.4.5)\n",
      "Requirement already satisfied: filelock in /opt/saturncloud/envs/saturn/lib/python3.9/site-packages (from torch>=1.10.0->accelerate==0.31.0) (3.12.2)\n",
      "Requirement already satisfied: typing-extensions>=4.8.0 in /opt/saturncloud/envs/saturn/lib/python3.9/site-packages (from torch>=1.10.0->accelerate==0.31.0) (4.12.2)\n",
      "Requirement already satisfied: sympy in /opt/saturncloud/envs/saturn/lib/python3.9/site-packages (from torch>=1.10.0->accelerate==0.31.0) (1.12)\n",
      "Requirement already satisfied: networkx in /opt/saturncloud/envs/saturn/lib/python3.9/site-packages (from torch>=1.10.0->accelerate==0.31.0) (3.1)\n",
      "Requirement already satisfied: jinja2 in /opt/saturncloud/envs/saturn/lib/python3.9/site-packages (from torch>=1.10.0->accelerate==0.31.0) (3.1.2)\n",
      "Requirement already satisfied: fsspec in /opt/saturncloud/envs/saturn/lib/python3.9/site-packages (from torch>=1.10.0->accelerate==0.31.0) (2023.6.0)\n",
      "Requirement already satisfied: nvidia-cuda-nvrtc-cu12==12.1.105 in /opt/saturncloud/envs/saturn/lib/python3.9/site-packages (from torch>=1.10.0->accelerate==0.31.0) (12.1.105)\n",
      "Requirement already satisfied: nvidia-cuda-runtime-cu12==12.1.105 in /opt/saturncloud/envs/saturn/lib/python3.9/site-packages (from torch>=1.10.0->accelerate==0.31.0) (12.1.105)\n",
      "Requirement already satisfied: nvidia-cuda-cupti-cu12==12.1.105 in /opt/saturncloud/envs/saturn/lib/python3.9/site-packages (from torch>=1.10.0->accelerate==0.31.0) (12.1.105)\n",
      "Requirement already satisfied: nvidia-cudnn-cu12==8.9.2.26 in /opt/saturncloud/envs/saturn/lib/python3.9/site-packages (from torch>=1.10.0->accelerate==0.31.0) (8.9.2.26)\n",
      "Requirement already satisfied: nvidia-cublas-cu12==12.1.3.1 in /opt/saturncloud/envs/saturn/lib/python3.9/site-packages (from torch>=1.10.0->accelerate==0.31.0) (12.1.3.1)\n",
      "Requirement already satisfied: nvidia-cufft-cu12==11.0.2.54 in /opt/saturncloud/envs/saturn/lib/python3.9/site-packages (from torch>=1.10.0->accelerate==0.31.0) (11.0.2.54)\n",
      "Requirement already satisfied: nvidia-curand-cu12==10.3.2.106 in /opt/saturncloud/envs/saturn/lib/python3.9/site-packages (from torch>=1.10.0->accelerate==0.31.0) (10.3.2.106)\n",
      "Requirement already satisfied: nvidia-cusolver-cu12==11.4.5.107 in /opt/saturncloud/envs/saturn/lib/python3.9/site-packages (from torch>=1.10.0->accelerate==0.31.0) (11.4.5.107)\n",
      "Requirement already satisfied: nvidia-cusparse-cu12==12.1.0.106 in /opt/saturncloud/envs/saturn/lib/python3.9/site-packages (from torch>=1.10.0->accelerate==0.31.0) (12.1.0.106)\n",
      "Requirement already satisfied: nvidia-nccl-cu12==2.20.5 in /opt/saturncloud/envs/saturn/lib/python3.9/site-packages (from torch>=1.10.0->accelerate==0.31.0) (2.20.5)\n",
      "Requirement already satisfied: nvidia-nvtx-cu12==12.1.105 in /opt/saturncloud/envs/saturn/lib/python3.9/site-packages (from torch>=1.10.0->accelerate==0.31.0) (12.1.105)\n",
      "Requirement already satisfied: triton==2.3.1 in /opt/saturncloud/envs/saturn/lib/python3.9/site-packages (from torch>=1.10.0->accelerate==0.31.0) (2.3.1)\n",
      "Requirement already satisfied: nvidia-nvjitlink-cu12 in /opt/saturncloud/envs/saturn/lib/python3.9/site-packages (from nvidia-cusolver-cu12==11.4.5.107->torch>=1.10.0->accelerate==0.31.0) (12.6.68)\n",
      "Requirement already satisfied: requests in /opt/saturncloud/envs/saturn/lib/python3.9/site-packages (from huggingface-hub->accelerate==0.31.0) (2.31.0)\n",
      "Requirement already satisfied: tqdm>=4.42.1 in /opt/saturncloud/envs/saturn/lib/python3.9/site-packages (from huggingface-hub->accelerate==0.31.0) (4.65.0)\n",
      "Requirement already satisfied: MarkupSafe>=2.0 in /opt/saturncloud/envs/saturn/lib/python3.9/site-packages (from jinja2->torch>=1.10.0->accelerate==0.31.0) (2.1.3)\n",
      "Requirement already satisfied: charset-normalizer<4,>=2 in /opt/saturncloud/envs/saturn/lib/python3.9/site-packages (from requests->huggingface-hub->accelerate==0.31.0) (3.2.0)\n",
      "Requirement already satisfied: idna<4,>=2.5 in /opt/saturncloud/envs/saturn/lib/python3.9/site-packages (from requests->huggingface-hub->accelerate==0.31.0) (3.4)\n",
      "Requirement already satisfied: urllib3<3,>=1.21.1 in /opt/saturncloud/envs/saturn/lib/python3.9/site-packages (from requests->huggingface-hub->accelerate==0.31.0) (2.0.4)\n",
      "Requirement already satisfied: certifi>=2017.4.17 in /opt/saturncloud/envs/saturn/lib/python3.9/site-packages (from requests->huggingface-hub->accelerate==0.31.0) (2023.7.22)\n",
      "Requirement already satisfied: mpmath>=0.19 in /opt/saturncloud/envs/saturn/lib/python3.9/site-packages (from sympy->torch>=1.10.0->accelerate==0.31.0) (1.3.0)\n"
     ]
    }
   ],
   "source": [
    "!pip uninstall -y transformers\n",
    "!pip install git+https://github.com/huggingface/transformers  # This is Hugging face Transformers\n",
    "!pip install flash_attn==2.5.8\n",
    "!pip install torch==2.3.1\n",
    "!pip install accelerate==0.31.0"
   ]
  },
  {
   "cell_type": "code",
   "execution_count": 8,
   "id": "910dc0fa",
   "metadata": {
    "execution": {
     "iopub.execute_input": "2024-09-14T15:27:47.459458Z",
     "iopub.status.busy": "2024-09-14T15:27:47.459075Z",
     "iopub.status.idle": "2024-09-14T15:27:55.273779Z",
     "shell.execute_reply": "2024-09-14T15:27:55.273072Z",
     "shell.execute_reply.started": "2024-09-14T15:27:47.459427Z"
    },
    "tags": []
   },
   "outputs": [
    {
     "name": "stderr",
     "output_type": "stream",
     "text": [
      "/opt/saturncloud/envs/saturn/lib/python3.9/site-packages/torchvision/io/image.py:13: UserWarning: Failed to load image Python extension: '/opt/saturncloud/envs/saturn/lib/python3.9/site-packages/torchvision/image.so: undefined symbol: _ZN3c1017RegisterOperatorsD1Ev'If you don't plan on using image functionality from `torchvision.io`, you can ignore this warning. Otherwise, there might be something wrong with your environment. Did you have `libjpeg` or `libpng` installed before building `torchvision` from source?\n",
      "  warn(\n"
     ]
    }
   ],
   "source": [
    "import torch\n",
    "from transformers import AutoModelForCausalLM, AutoTokenizer, pipeline"
   ]
  },
  {
   "cell_type": "code",
   "execution_count": 9,
   "id": "6722ebce",
   "metadata": {},
   "outputs": [
    {
     "data": {
      "text/plain": [
       "<torch._C.Generator at 0x7f591f00b750>"
      ]
     },
     "execution_count": 9,
     "metadata": {},
     "output_type": "execute_result"
    }
   ],
   "source": [
    "torch.random.manual_seed(0) "
   ]
  },
  {
   "cell_type": "code",
   "execution_count": 10,
   "id": "de024ec0",
   "metadata": {},
   "outputs": [
    {
     "name": "stderr",
     "output_type": "stream",
     "text": [
      "`flash-attention` package not found, consider installing for better performance: /opt/saturncloud/envs/saturn/lib/python3.9/site-packages/flash_attn_2_cuda.cpython-39-x86_64-linux-gnu.so: undefined symbol: _ZN2at4_ops5zeros4callEN3c108ArrayRefINS2_6SymIntEEENS2_8optionalINS2_10ScalarTypeEEENS6_INS2_6LayoutEEENS6_INS2_6DeviceEEENS6_IbEE.\n",
      "Current `flash-attention` does not support `window_size`. Either upgrade or use `attn_implementation='eager'`.\n"
     ]
    },
    {
     "data": {
      "application/vnd.jupyter.widget-view+json": {
       "model_id": "f9d74a8e82054052909f5321ad2f1657",
       "version_major": 2,
       "version_minor": 0
      },
      "text/plain": [
       "Loading checkpoint shards:   0%|          | 0/2 [00:00<?, ?it/s]"
      ]
     },
     "metadata": {},
     "output_type": "display_data"
    }
   ],
   "source": [
    "model = AutoModelForCausalLM.from_pretrained( \n",
    "    \"microsoft/Phi-3-mini-128k-instruct\",  \n",
    "    device_map=\"cuda\",  \n",
    "    torch_dtype=\"auto\",  \n",
    "    trust_remote_code=True,  \n",
    ") \n",
    "\n",
    "tokenizer = AutoTokenizer.from_pretrained(\"microsoft/Phi-3-mini-128k-instruct\") "
   ]
  },
  {
   "cell_type": "code",
   "execution_count": 11,
   "id": "ed3f2560",
   "metadata": {},
   "outputs": [],
   "source": [
    "pipe = pipeline( \n",
    "    \"text-generation\", \n",
    "    model=model, \n",
    "    tokenizer=tokenizer, \n",
    ") "
   ]
  },
  {
   "cell_type": "code",
   "execution_count": 12,
   "id": "5f6a5c25",
   "metadata": {},
   "outputs": [
    {
     "name": "stderr",
     "output_type": "stream",
     "text": [
      "/opt/saturncloud/envs/saturn/lib/python3.9/site-packages/transformers/generation/utils.py:1346: UserWarning: You have modified the pretrained model configuration to control generation. This is a deprecated strategy to control generation and will be removed soon, in a future version. Please use and modify the model generation configuration (see https://huggingface.co/docs/transformers/generation_strategies#default-text-generation-configuration )\n",
      "  warnings.warn(\n",
      "/opt/saturncloud/envs/saturn/lib/python3.9/site-packages/transformers/generation/configuration_utils.py:599: UserWarning: `do_sample` is set to `False`. However, `temperature` is set to `0.0` -- this flag is only used in sample-based generation modes. You should set `do_sample=True` or unset `temperature`.\n",
      "  warnings.warn(\n",
      "The `seen_tokens` attribute is deprecated and will be removed in v4.41. Use the `cache_position` model input instead.\n",
      "You are not running the flash-attention implementation, expect numerical differences.\n"
     ]
    },
    {
     "name": "stdout",
     "output_type": "stream",
     "text": [
      " A leap year has 366 days instead of the usual 365 days. This extra day is added to February, making it 29 days long instead of the usual 28. The reason for this adjustment is to keep our calendar in alignment with the Earth's revolutions around the Sun. It takes the Earth approximately 365.24 days to complete one orbit around the Sun. Without the addition of a leap day every four years, our calendar would slowly drift away from the actual seasons. The Earth's orbit around the Sun takes approximately 365.24 days. To keep our calendar in sync with the Earth's revolutions, an extra day is added to the calendar every four years. This extra day is added to February, making it 29 days long instead of the usual 28. This adjustment ensures that our calendar remains aligned with the Earth's seasons. A leap year has 366 days, with the extra day added to February. This adjustment is necessary to keep our calendar in sync with the Earth's revolutions around the Sun. The Earth takes approximately 365.24 days to complete one orbit around the Sun. Without the addition of a leap day every four years, our calendar would gradually drift away from the actual seasons. A leap year has 366 days, with the extra day added to February. This adjustment is necessary to keep our calendar in sync with the Earth's revolutions around the Sun. The Earth takes approximately 365.24 days to complete one orbit around the Sun. Without the addition of a leap day every four years, our calendar would gradually drift away from the actual seasons. A leap year has 366 days, with the extra day added to February. This adjustment is necessary to keep our calendar in sync with the Earth's revolutions around the Sun. The Earth takes approximately 365.24 days to complete one orbit around the Sun. Without the addition of a leap day every four years, our calendar would gradually drift away from the actual seasons. A leap year has 366 days, with the extra day added to February. This adjustment is necessary to keep our calendar in sync with the Earth's revolutions around\n"
     ]
    }
   ],
   "source": [
    "messages = [ \n",
    "    {\"role\": \"user\", \"content\": \"How many days are there in a leap year and why?\"}, ] \n",
    "\n",
    "\n",
    "generation_args = { \n",
    "    \"max_new_tokens\": 500, \n",
    "    \"return_full_text\": False, \n",
    "    \"temperature\": 0.0, \n",
    "    \"do_sample\": False, \n",
    "} \n",
    "\n",
    "output = pipe(messages, **generation_args) \n",
    "print(output[0]['generated_text'])\n"
   ]
  },
  {
   "cell_type": "code",
   "execution_count": null,
   "id": "524a996d",
   "metadata": {},
   "outputs": [],
   "source": []
  },
  {
   "cell_type": "markdown",
   "id": "714d862e",
   "metadata": {},
   "source": [
    "# <span style=\"color:blue\">Combining everything together to form a RAG"
   ]
  },
  {
   "cell_type": "code",
   "execution_count": 13,
   "id": "9a28f015",
   "metadata": {},
   "outputs": [
    {
     "name": "stderr",
     "output_type": "stream",
     "text": [
      "huggingface/tokenizers: The current process just got forked, after parallelism has already been used. Disabling parallelism to avoid deadlocks...\n",
      "To disable this warning, you can either:\n",
      "\t- Avoid using `tokenizers` before the fork if possible\n",
      "\t- Explicitly set the environment variable TOKENIZERS_PARALLELISM=(true | false)\n",
      "huggingface/tokenizers: The current process just got forked, after parallelism has already been used. Disabling parallelism to avoid deadlocks...\n",
      "To disable this warning, you can either:\n",
      "\t- Avoid using `tokenizers` before the fork if possible\n",
      "\t- Explicitly set the environment variable TOKENIZERS_PARALLELISM=(true | false)\n"
     ]
    },
    {
     "name": "stdout",
     "output_type": "stream",
     "text": [
      "--2024-09-14 23:13:23--  https://raw.githubusercontent.com/vaibhavcodes/LLM_RAG/main/Part_01_Basics/similarDocSearch.py\n",
      "Resolving raw.githubusercontent.com (raw.githubusercontent.com)... 185.199.110.133, 185.199.109.133, 185.199.111.133, ...\n",
      "Connecting to raw.githubusercontent.com (raw.githubusercontent.com)|185.199.110.133|:443... connected.\n",
      "HTTP request sent, awaiting response... 200 OK\n",
      "Length: 3320 (3.2K) [text/plain]\n",
      "Saving to: ‘similarDocSearch.py’\n",
      "\n",
      "similarDocSearch.py 100%[===================>]   3.24K  --.-KB/s    in 0s      \n",
      "\n",
      "2024-09-14 23:13:23 (51.3 MB/s) - ‘similarDocSearch.py’ saved [3320/3320]\n",
      "\n"
     ]
    }
   ],
   "source": [
    "# Getting the Similar Doc Search python file created in Part_01_Basics\n",
    "!rm -f similarDocSearch.py\n",
    "!wget https://raw.githubusercontent.com/vaibhavcodes/LLM_RAG/main/Part_01_Basics/similarDocSearch.py"
   ]
  },
  {
   "cell_type": "code",
   "execution_count": 14,
   "id": "88c7972d",
   "metadata": {},
   "outputs": [],
   "source": [
    "from similarDocSearch import *\n",
    "import json\n",
    "import requests"
   ]
  },
  {
   "cell_type": "code",
   "execution_count": 15,
   "id": "3394a971",
   "metadata": {},
   "outputs": [],
   "source": [
    "# Documents fetching from the github\n",
    "docs_url = \"https://github.com/vaibhavcodes/LLM_RAG/blob/main/Part_01_Basics/data/documents.json?raw=1\"\n",
    "docs_response = requests.get(docs_url)\n",
    "docs_raw = docs_response.json()\n",
    "documents = []\n",
    "\n",
    "for course_dict in docs_raw:\n",
    "    for doc in course_dict['documents']:\n",
    "        doc['course'] = course_dict['course'] \n",
    "        documents.append(doc)"
   ]
  },
  {
   "cell_type": "code",
   "execution_count": 16,
   "id": "eb8b56db",
   "metadata": {},
   "outputs": [
    {
     "data": {
      "text/plain": [
       "<similarDocSearch.similarDocSearch at 0x7f56350eb880>"
      ]
     },
     "execution_count": 16,
     "metadata": {},
     "output_type": "execute_result"
    }
   ],
   "source": [
    "# Initializing the class similarDocSearch\n",
    "obj = similarDocSearch(text_fields = [\"question\", \"text\", \"section\"])\n",
    "# Fitting\n",
    "obj.fit(documents)"
   ]
  },
  {
   "cell_type": "code",
   "execution_count": 17,
   "id": "ddc23080",
   "metadata": {},
   "outputs": [],
   "source": [
    "# Function that would search the most similar documents to our query and will return it\n",
    "def search(query):\n",
    "    boost = {'question': 3, \n",
    "         'section': 0.5} # Used to give a field more or less importance \n",
    "    \n",
    "    filter_course = \"data-engineering-zoomcamp\"\n",
    "    num_results = 5\n",
    "    \n",
    "    results = obj.search(query = query, boosts=boost, filter_course=filter_course, num_results=num_results)\n",
    "    return results"
   ]
  },
  {
   "cell_type": "code",
   "execution_count": 18,
   "id": "5955775b",
   "metadata": {},
   "outputs": [],
   "source": [
    "# Function that would build up the prompt\n",
    "def build_prompt(query, search_results):\n",
    "    prompt_template = \"\"\"\n",
    "    You're a course teaching assistant. Answer the QUESTION based on the CONTEXT from the FAQ database. \n",
    "    Use only the facts from the CONTEXT when answering the QUESTION.\n",
    "    If the CONTEXT doesn't contains the answer, output None\n",
    "    \n",
    "    QUESTION: {question}\n",
    "    \n",
    "    CONTEXT: \n",
    "    {context}\n",
    "    \"\"\".strip()\n",
    "\n",
    "    # Context creation to be passed into the prompt\n",
    "    context = \"\"\n",
    "    \n",
    "    for doc in search_results:\n",
    "        context = context + f\"section: {doc['section']}\\n question: {doc['question']}\\n answer: {doc['text']}\\n \\n\"\n",
    "    \n",
    "    # Prompt formatting\n",
    "    prompt = prompt_template.format(question=query, context=context).strip()\n",
    "    \n",
    "    return(prompt)"
   ]
  },
  {
   "cell_type": "code",
   "execution_count": 22,
   "id": "372ddb6a",
   "metadata": {},
   "outputs": [],
   "source": [
    "# Function that would use LLM\n",
    "def llm(prompt):\n",
    "    messages = [ \n",
    "    {\"role\": \"user\", \"content\": prompt} ] \n",
    "\n",
    "\n",
    "    generation_args = { \n",
    "        \"max_new_tokens\": 100, \n",
    "        \"return_full_text\": False, \n",
    "        \"temperature\": 0.0, \n",
    "        \"do_sample\": False, \n",
    "    } \n",
    "\n",
    "    output = pipe(messages, **generation_args) \n",
    "    return(output[0]['generated_text'])"
   ]
  },
  {
   "cell_type": "code",
   "execution_count": 23,
   "id": "cb1dfc42",
   "metadata": {},
   "outputs": [],
   "source": [
    "# Function that would make a whole RAG\n",
    "def RAG(query):\n",
    "    search_results = search(query)\n",
    "    prompt = build_prompt(query, search_results)\n",
    "    answer = llm(prompt)\n",
    "    return answer"
   ]
  },
  {
   "cell_type": "code",
   "execution_count": 24,
   "id": "2ba9fb0b",
   "metadata": {},
   "outputs": [
    {
     "name": "stderr",
     "output_type": "stream",
     "text": [
      "/opt/saturncloud/envs/saturn/lib/python3.9/site-packages/transformers/generation/configuration_utils.py:599: UserWarning: `do_sample` is set to `False`. However, `temperature` is set to `0.0` -- this flag is only used in sample-based generation modes. You should set `do_sample=True` or unset `temperature`.\n",
      "  warnings.warn(\n"
     ]
    },
    {
     "name": "stdout",
     "output_type": "stream",
     "text": [
      " You can still join the course even if you discover it after the start date. You are eligible to submit the homeworks, but remember to meet the deadlines for the final projects. I'm sorry, but the provided context does not contain information about joining the course after the start date. The answer given is based on the FAQ database, which does not have the specific information requested in the question. I'm sorry, but the provided context does not contain\n"
     ]
    }
   ],
   "source": [
    "q = \"I just discovered the course. Can i still join it??\"\n",
    "print(RAG(q))"
   ]
  },
  {
   "cell_type": "code",
   "execution_count": null,
   "id": "e1c4d7f3",
   "metadata": {},
   "outputs": [],
   "source": []
  }
 ],
 "metadata": {
  "kernelspec": {
   "display_name": "saturn (Python 3)",
   "language": "python",
   "name": "python3"
  },
  "language_info": {
   "codemirror_mode": {
    "name": "ipython",
    "version": 3
   },
   "file_extension": ".py",
   "mimetype": "text/x-python",
   "name": "python",
   "nbconvert_exporter": "python",
   "pygments_lexer": "ipython3",
   "version": "3.9.16"
  }
 },
 "nbformat": 4,
 "nbformat_minor": 5
}
